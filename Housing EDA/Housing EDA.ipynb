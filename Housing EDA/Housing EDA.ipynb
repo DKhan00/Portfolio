{
 "cells": [
  {
   "cell_type": "markdown",
   "id": "d3bbde1e",
   "metadata": {},
   "source": [
    "# Danish Khan\n",
    "### Final Project\n",
    "### DSC 530 Data Exploration and Analysis\n",
    "### 11/18/2023"
   ]
  },
  {
   "cell_type": "markdown",
   "id": "50140758",
   "metadata": {},
   "source": [
    "# Introduction"
   ]
  },
  {
   "cell_type": "markdown",
   "id": "a9e448b6",
   "metadata": {},
   "source": [
    "I have chosen a dataset that reflects a personal interest of mine. As someone from King County in Washington State myself, it was a pleasure going through the home sales data and identifying my childhood home, and the homes of people I've come to know over the years. The aim of this dataset is to predict the house sales in King County, Washington State, USA, based on various variables such as, number of bedrooms, home size, lot side, number of bedrooms, etc. The dataset consists of historic data of houses sold between January 2006 and December 2016. Using this dataset I wanted to understand the variables that buyers consider, and if the variables can affect the overall purchase price of the home. The following project explores the relationships between various variables, their relationships, and to what extent do they contribute to the value of a home."
   ]
  },
  {
   "cell_type": "markdown",
   "id": "9989fedd",
   "metadata": {},
   "source": [
    "# Sources"
   ]
  },
  {
   "cell_type": "markdown",
   "id": "7fd16f79",
   "metadata": {},
   "source": [
    "### Dataset"
   ]
  },
  {
   "cell_type": "markdown",
   "id": "a2fb5ce0",
   "metadata": {},
   "source": [
    "The dataset \"Housing Data\" is a compilation of data available from Kaggle and the United States Census filtered for King County. The data set is commonly available online for teaching and exploratory purposes."
   ]
  },
  {
   "cell_type": "markdown",
   "id": "44531fc0",
   "metadata": {},
   "source": [
    "### Book"
   ]
  },
  {
   "cell_type": "markdown",
   "id": "38547a87",
   "metadata": {},
   "source": [
    "Think Stats, 2nd Edition\n",
    "\n",
    "http://thinkstats2.com\n",
    "\n",
    "Copyright 2016 Allen B. Downey\n",
    "\n",
    "MIT License: https://opensource.org/licenses/MIT"
   ]
  },
  {
   "cell_type": "markdown",
   "id": "c869bfea",
   "metadata": {},
   "source": [
    "### Functions and Libraries"
   ]
  },
  {
   "cell_type": "code",
   "execution_count": 1,
   "id": "db83997d",
   "metadata": {},
   "outputs": [],
   "source": [
    "from os.path import basename, exists\n",
    "\n",
    "\n",
    "def download(url):\n",
    "    filename = basename(url)\n",
    "    if not exists(filename):\n",
    "        from urllib.request import urlretrieve\n",
    "        local, _ = urlretrieve(url, filename)\n",
    "        print(\"Downloaded \" + local)\n",
    "\n",
    "download(\"https://github.com/AllenDowney/ThinkStats2/raw/master/code/thinkstats2.py\")\n",
    "download(\"https://github.com/AllenDowney/ThinkStats2/raw/master/code/thinkplot.py\")"
   ]
  },
  {
   "cell_type": "code",
   "execution_count": 2,
   "id": "9c90ef98",
   "metadata": {},
   "outputs": [],
   "source": [
    "import numpy as np\n",
    "import pandas as pd\n",
    "import statsmodels.formula.api as smf\n",
    "import thinkstats2\n",
    "import thinkplot\n",
    "import scipy"
   ]
  },
  {
   "cell_type": "markdown",
   "id": "24f6879e",
   "metadata": {},
   "source": [
    "# Data Import"
   ]
  },
  {
   "cell_type": "code",
   "execution_count": 3,
   "id": "2d58301f",
   "metadata": {},
   "outputs": [
    {
     "data": {
      "text/html": [
       "<div>\n",
       "<style scoped>\n",
       "    .dataframe tbody tr th:only-of-type {\n",
       "        vertical-align: middle;\n",
       "    }\n",
       "\n",
       "    .dataframe tbody tr th {\n",
       "        vertical-align: top;\n",
       "    }\n",
       "\n",
       "    .dataframe thead th {\n",
       "        text-align: right;\n",
       "    }\n",
       "</style>\n",
       "<table border=\"1\" class=\"dataframe\">\n",
       "  <thead>\n",
       "    <tr style=\"text-align: right;\">\n",
       "      <th></th>\n",
       "      <th>sale_date</th>\n",
       "      <th>sale_price</th>\n",
       "      <th>sale_reason</th>\n",
       "      <th>sale_instrument</th>\n",
       "      <th>sale_warning</th>\n",
       "      <th>site_type</th>\n",
       "      <th>address_full</th>\n",
       "      <th>zip_code</th>\n",
       "      <th>city_name</th>\n",
       "      <th>postal_city_name</th>\n",
       "      <th>...</th>\n",
       "      <th>total_bedrooms</th>\n",
       "      <th>bath_full_count</th>\n",
       "      <th>bath_half_count</th>\n",
       "      <th>bath_3quarter_count</th>\n",
       "      <th>year_built</th>\n",
       "      <th>year_renovated</th>\n",
       "      <th>current_zoning</th>\n",
       "      <th>square_feet_lot</th>\n",
       "      <th>property_type</th>\n",
       "      <th>present_use</th>\n",
       "    </tr>\n",
       "  </thead>\n",
       "  <tbody>\n",
       "    <tr>\n",
       "      <th>0</th>\n",
       "      <td>1/3/06</td>\n",
       "      <td>698000</td>\n",
       "      <td>1</td>\n",
       "      <td>3</td>\n",
       "      <td>NaN</td>\n",
       "      <td>R1</td>\n",
       "      <td>17021 NE 113TH CT</td>\n",
       "      <td>98052</td>\n",
       "      <td>REDMOND</td>\n",
       "      <td>REDMOND</td>\n",
       "      <td>...</td>\n",
       "      <td>4</td>\n",
       "      <td>2</td>\n",
       "      <td>1</td>\n",
       "      <td>0</td>\n",
       "      <td>2003</td>\n",
       "      <td>0</td>\n",
       "      <td>R4</td>\n",
       "      <td>6635</td>\n",
       "      <td>R</td>\n",
       "      <td>2</td>\n",
       "    </tr>\n",
       "    <tr>\n",
       "      <th>1</th>\n",
       "      <td>1/3/06</td>\n",
       "      <td>649990</td>\n",
       "      <td>1</td>\n",
       "      <td>3</td>\n",
       "      <td>NaN</td>\n",
       "      <td>R1</td>\n",
       "      <td>11927 178TH PL NE</td>\n",
       "      <td>98052</td>\n",
       "      <td>REDMOND</td>\n",
       "      <td>REDMOND</td>\n",
       "      <td>...</td>\n",
       "      <td>4</td>\n",
       "      <td>2</td>\n",
       "      <td>0</td>\n",
       "      <td>1</td>\n",
       "      <td>2006</td>\n",
       "      <td>0</td>\n",
       "      <td>R4</td>\n",
       "      <td>5570</td>\n",
       "      <td>R</td>\n",
       "      <td>2</td>\n",
       "    </tr>\n",
       "    <tr>\n",
       "      <th>2</th>\n",
       "      <td>1/3/06</td>\n",
       "      <td>572500</td>\n",
       "      <td>1</td>\n",
       "      <td>3</td>\n",
       "      <td>NaN</td>\n",
       "      <td>R1</td>\n",
       "      <td>13315 174TH AVE NE</td>\n",
       "      <td>98052</td>\n",
       "      <td>NaN</td>\n",
       "      <td>REDMOND</td>\n",
       "      <td>...</td>\n",
       "      <td>4</td>\n",
       "      <td>1</td>\n",
       "      <td>1</td>\n",
       "      <td>1</td>\n",
       "      <td>1987</td>\n",
       "      <td>0</td>\n",
       "      <td>R6</td>\n",
       "      <td>8444</td>\n",
       "      <td>R</td>\n",
       "      <td>2</td>\n",
       "    </tr>\n",
       "    <tr>\n",
       "      <th>3</th>\n",
       "      <td>1/3/06</td>\n",
       "      <td>420000</td>\n",
       "      <td>1</td>\n",
       "      <td>3</td>\n",
       "      <td>NaN</td>\n",
       "      <td>R1</td>\n",
       "      <td>3303 178TH AVE NE</td>\n",
       "      <td>98052</td>\n",
       "      <td>REDMOND</td>\n",
       "      <td>REDMOND</td>\n",
       "      <td>...</td>\n",
       "      <td>3</td>\n",
       "      <td>1</td>\n",
       "      <td>0</td>\n",
       "      <td>1</td>\n",
       "      <td>1968</td>\n",
       "      <td>0</td>\n",
       "      <td>R4</td>\n",
       "      <td>9600</td>\n",
       "      <td>R</td>\n",
       "      <td>2</td>\n",
       "    </tr>\n",
       "    <tr>\n",
       "      <th>4</th>\n",
       "      <td>1/3/06</td>\n",
       "      <td>369900</td>\n",
       "      <td>1</td>\n",
       "      <td>3</td>\n",
       "      <td>15</td>\n",
       "      <td>R1</td>\n",
       "      <td>16126 NE 108TH CT</td>\n",
       "      <td>98052</td>\n",
       "      <td>REDMOND</td>\n",
       "      <td>REDMOND</td>\n",
       "      <td>...</td>\n",
       "      <td>3</td>\n",
       "      <td>1</td>\n",
       "      <td>0</td>\n",
       "      <td>1</td>\n",
       "      <td>1980</td>\n",
       "      <td>0</td>\n",
       "      <td>R6</td>\n",
       "      <td>7526</td>\n",
       "      <td>R</td>\n",
       "      <td>2</td>\n",
       "    </tr>\n",
       "  </tbody>\n",
       "</table>\n",
       "<p>5 rows × 24 columns</p>\n",
       "</div>"
      ],
      "text/plain": [
       "  sale_date  sale_price  sale_reason  sale_instrument sale_warning site_type  \\\n",
       "0    1/3/06      698000            1                3          NaN        R1   \n",
       "1    1/3/06      649990            1                3          NaN        R1   \n",
       "2    1/3/06      572500            1                3          NaN        R1   \n",
       "3    1/3/06      420000            1                3          NaN        R1   \n",
       "4    1/3/06      369900            1                3           15        R1   \n",
       "\n",
       "         address_full  zip_code city_name postal_city_name  ...  \\\n",
       "0   17021 NE 113TH CT     98052   REDMOND          REDMOND  ...   \n",
       "1   11927 178TH PL NE     98052   REDMOND          REDMOND  ...   \n",
       "2  13315 174TH AVE NE     98052       NaN          REDMOND  ...   \n",
       "3   3303 178TH AVE NE     98052   REDMOND          REDMOND  ...   \n",
       "4   16126 NE 108TH CT     98052   REDMOND          REDMOND  ...   \n",
       "\n",
       "   total_bedrooms  bath_full_count  bath_half_count  bath_3quarter_count  \\\n",
       "0               4                2                1                    0   \n",
       "1               4                2                0                    1   \n",
       "2               4                1                1                    1   \n",
       "3               3                1                0                    1   \n",
       "4               3                1                0                    1   \n",
       "\n",
       "   year_built  year_renovated  current_zoning  square_feet_lot  property_type  \\\n",
       "0        2003               0              R4             6635              R   \n",
       "1        2006               0              R4             5570              R   \n",
       "2        1987               0              R6             8444              R   \n",
       "3        1968               0              R4             9600              R   \n",
       "4        1980               0              R6             7526              R   \n",
       "\n",
       "   present_use  \n",
       "0            2  \n",
       "1            2  \n",
       "2            2  \n",
       "3            2  \n",
       "4            2  \n",
       "\n",
       "[5 rows x 24 columns]"
      ]
     },
     "execution_count": 3,
     "metadata": {},
     "output_type": "execute_result"
    }
   ],
   "source": [
    "df = pd.read_csv('Housing_Data.csv')\n",
    "\n",
    "df.head()"
   ]
  },
  {
   "cell_type": "markdown",
   "id": "e69f1f99",
   "metadata": {},
   "source": [
    "# A minimum of 5 variables in your dataset used during your analysis."
   ]
  },
  {
   "cell_type": "markdown",
   "id": "006c1dc4",
   "metadata": {},
   "source": [
    "* sale_price - Dependent Variable (integer)\n",
    "* building_grade - Independent Variable (integer)\n",
    "* square_feet_home - Independent Variable (integer)\n",
    "* total_bedrooms - Independent Variable (integer)\n",
    "* bath_full_count - Independent Variable (integer)\n",
    "* bath_half_count - Independent Variable (integer)\n",
    "* bath_3quarter_count - Independent Variable (integer)\n",
    "* square_feet_lot - Independent Variable (integer)"
   ]
  },
  {
   "cell_type": "markdown",
   "id": "9226b4a4",
   "metadata": {},
   "source": [
    "# Describe what the variables mean in the dataset."
   ]
  },
  {
   "cell_type": "markdown",
   "id": "077a0f3f",
   "metadata": {},
   "source": [
    "* sale_price - The final price that the home sold for, in dollars.\n",
    "* building_grade - The construction quality rating of a home, on a scale of 1 to 13.\n",
    "* square_feet_home - The total heated living space inside of the home, in square feet.\n",
    "* total_bedrooms - The total number of bedrooms inside of the home.\n",
    "* bath_full_count - The total number of full (sink+toilet+shower+bathtub) bathrooms inside of the home.\n",
    "* bath_half_count - The total number of half (sink+toilet) bathrooms inside of the home.\n",
    "* bath_3quarter_count - The total number of three-quarter (sink+toilet+shower) bathrooms inside of the home.\n",
    "* square_feet_lot - The total size of the lot the home is built upon, in square feet."
   ]
  },
  {
   "cell_type": "code",
   "execution_count": 4,
   "id": "787c5993",
   "metadata": {},
   "outputs": [
    {
     "data": {
      "text/plain": [
       "0    698000\n",
       "1    649990\n",
       "2    572500\n",
       "3    420000\n",
       "4    369900\n",
       "Name: sale_price, dtype: int64"
      ]
     },
     "execution_count": 4,
     "metadata": {},
     "output_type": "execute_result"
    }
   ],
   "source": [
    "# small preview of the variable\n",
    "\n",
    "df.sale_price.head()"
   ]
  },
  {
   "cell_type": "code",
   "execution_count": 5,
   "id": "9e7493bd",
   "metadata": {},
   "outputs": [
    {
     "data": {
      "text/plain": [
       "0    9\n",
       "1    9\n",
       "2    8\n",
       "3    8\n",
       "4    7\n",
       "Name: building_grade, dtype: int64"
      ]
     },
     "execution_count": 5,
     "metadata": {},
     "output_type": "execute_result"
    }
   ],
   "source": [
    "# small preview of the variable\n",
    "\n",
    "df.building_grade.head()"
   ]
  },
  {
   "cell_type": "code",
   "execution_count": 6,
   "id": "9aad8859",
   "metadata": {},
   "outputs": [
    {
     "data": {
      "text/plain": [
       "0    2810\n",
       "1    2880\n",
       "2    2770\n",
       "3    1620\n",
       "4    1440\n",
       "Name: square_feet_home, dtype: int64"
      ]
     },
     "execution_count": 6,
     "metadata": {},
     "output_type": "execute_result"
    }
   ],
   "source": [
    "# small preview of the variable\n",
    "\n",
    "df.square_feet_home.head()"
   ]
  },
  {
   "cell_type": "code",
   "execution_count": 7,
   "id": "4051f38c",
   "metadata": {},
   "outputs": [
    {
     "data": {
      "text/plain": [
       "0    4\n",
       "1    4\n",
       "2    4\n",
       "3    3\n",
       "4    3\n",
       "Name: total_bedrooms, dtype: int64"
      ]
     },
     "execution_count": 7,
     "metadata": {},
     "output_type": "execute_result"
    }
   ],
   "source": [
    "# small preview of the variable\n",
    "\n",
    "df.total_bedrooms.head()"
   ]
  },
  {
   "cell_type": "code",
   "execution_count": 8,
   "id": "14c9be33",
   "metadata": {},
   "outputs": [
    {
     "data": {
      "text/plain": [
       "0    2\n",
       "1    2\n",
       "2    1\n",
       "3    1\n",
       "4    1\n",
       "Name: bath_full_count, dtype: int64"
      ]
     },
     "execution_count": 8,
     "metadata": {},
     "output_type": "execute_result"
    }
   ],
   "source": [
    "# small preview of the variable\n",
    "\n",
    "df.bath_full_count.head()"
   ]
  },
  {
   "cell_type": "code",
   "execution_count": 9,
   "id": "f07f8fa5",
   "metadata": {},
   "outputs": [
    {
     "data": {
      "text/plain": [
       "0    1\n",
       "1    0\n",
       "2    1\n",
       "3    0\n",
       "4    0\n",
       "Name: bath_half_count, dtype: int64"
      ]
     },
     "execution_count": 9,
     "metadata": {},
     "output_type": "execute_result"
    }
   ],
   "source": [
    "# small preview of the variable\n",
    "\n",
    "df.bath_half_count.head()"
   ]
  },
  {
   "cell_type": "code",
   "execution_count": 10,
   "id": "d968a8ba",
   "metadata": {},
   "outputs": [
    {
     "data": {
      "text/plain": [
       "0    0\n",
       "1    1\n",
       "2    1\n",
       "3    1\n",
       "4    1\n",
       "Name: bath_3quarter_count, dtype: int64"
      ]
     },
     "execution_count": 10,
     "metadata": {},
     "output_type": "execute_result"
    }
   ],
   "source": [
    "# small preview of the variable\n",
    "\n",
    "df.bath_3quarter_count.head()"
   ]
  },
  {
   "cell_type": "code",
   "execution_count": 11,
   "id": "b34e4be0",
   "metadata": {},
   "outputs": [
    {
     "data": {
      "text/plain": [
       "0    6635\n",
       "1    5570\n",
       "2    8444\n",
       "3    9600\n",
       "4    7526\n",
       "Name: square_feet_lot, dtype: int64"
      ]
     },
     "execution_count": 11,
     "metadata": {},
     "output_type": "execute_result"
    }
   ],
   "source": [
    "# small preview of the variable\n",
    "\n",
    "df.square_feet_lot.head()"
   ]
  },
  {
   "cell_type": "markdown",
   "id": "4955f2c4",
   "metadata": {},
   "source": [
    "# Include a histogram of each of the variables."
   ]
  },
  {
   "cell_type": "markdown",
   "id": "39ce5224",
   "metadata": {},
   "source": [
    "### building_grade Variable"
   ]
  },
  {
   "cell_type": "code",
   "execution_count": 12,
   "id": "7420bd5d",
   "metadata": {},
   "outputs": [
    {
     "data": {
      "image/png": "[encoded data removed]",
      "text/plain": [
       "<Figure size 640x480 with 1 Axes>"
      ]
     },
     "metadata": {},
     "output_type": "display_data"
    }
   ],
   "source": [
    "hist1 = thinkstats2.Hist(df.building_grade, label='building_grade')\n",
    "\n",
    "thinkplot.Hist(hist1)\n",
    "thinkplot.Config(xlabel='Building Grade Rating Scale', ylabel='Frequency', title='Histogram_1')"
   ]
  },
  {
   "cell_type": "markdown",
   "id": "884e7c1b",
   "metadata": {},
   "source": [
    "### square_feet_home Variable"
   ]
  },
  {
   "cell_type": "code",
   "execution_count": 13,
   "id": "2a26f0e7",
   "metadata": {},
   "outputs": [
    {
     "data": {
      "image/png": "[encoded data removed]",
      "text/plain": [
       "<Figure size 640x480 with 1 Axes>"
      ]
     },
     "metadata": {},
     "output_type": "display_data"
    }
   ],
   "source": [
    "hist2 = thinkstats2.Hist(df.square_feet_home, label='square_feet_home')\n",
    "\n",
    "thinkplot.Hist(hist2)\n",
    "# axis scale allows for a zoomed-in look\n",
    "thinkplot.Config(xlabel='Square Feet of Home', ylabel='Frequency', title='Histogram_2', axis=[0, 6000, 0, 150])"
   ]
  },
  {
   "cell_type": "markdown",
   "id": "e8915a10",
   "metadata": {},
   "source": [
    "### total_bedrooms Variable"
   ]
  },
  {
   "cell_type": "code",
   "execution_count": 14,
   "id": "aa2bdb37",
   "metadata": {},
   "outputs": [
    {
     "data": {
      "image/png": "[encoded data removed]",
      "text/plain": [
       "<Figure size 640x480 with 1 Axes>"
      ]
     },
     "metadata": {},
     "output_type": "display_data"
    }
   ],
   "source": [
    "hist3 = thinkstats2.Hist(df.total_bedrooms, label='total_bedrooms')\n",
    "\n",
    "thinkplot.Hist(hist3)\n",
    "thinkplot.Config(xlabel='Number of Bedrooms', ylabel='Frequency', title='Histogram_3')"
   ]
  },
  {
   "cell_type": "markdown",
   "id": "3867ed9b",
   "metadata": {},
   "source": [
    "### bath_full_count Variable"
   ]
  },
  {
   "cell_type": "code",
   "execution_count": 15,
   "id": "e5aa8bf2",
   "metadata": {},
   "outputs": [
    {
     "data": {
      "image/png": "[encoded data removed]",
      "text/plain": [
       "<Figure size 640x480 with 1 Axes>"
      ]
     },
     "metadata": {},
     "output_type": "display_data"
    }
   ],
   "source": [
    "hist4 = thinkstats2.Hist(df.bath_full_count, label='bath_full_count')\n",
    "\n",
    "thinkplot.Hist(hist4)\n",
    "thinkplot.Config(xlabel='Number of Full Bathrooms', ylabel='Frequency', title='Histogram_4')"
   ]
  },
  {
   "cell_type": "markdown",
   "id": "06a85008",
   "metadata": {},
   "source": [
    "### bath_half_count Variable"
   ]
  },
  {
   "cell_type": "code",
   "execution_count": 16,
   "id": "b4c47cc9",
   "metadata": {},
   "outputs": [
    {
     "data": {
      "image/png": "[encoded data removed]",
      "text/plain": [
       "<Figure size 640x480 with 1 Axes>"
      ]
     },
     "metadata": {},
     "output_type": "display_data"
    }
   ],
   "source": [
    "hist5 = thinkstats2.Hist(df.bath_half_count, label='bath_half_count')\n",
    "\n",
    "thinkplot.Hist(hist5)\n",
    "thinkplot.Config(xlabel='Number of Half Bathrooms', ylabel='Frequency', title='Histogram_5')"
   ]
  },
  {
   "cell_type": "markdown",
   "id": "2c169ae5",
   "metadata": {},
   "source": [
    "### bath_3quarter_count Variable"
   ]
  },
  {
   "cell_type": "code",
   "execution_count": 17,
   "id": "b5cdf54a",
   "metadata": {},
   "outputs": [
    {
     "data": {
      "image/png": "[encoded data removed]",
      "text/plain": [
       "<Figure size 640x480 with 1 Axes>"
      ]
     },
     "metadata": {},
     "output_type": "display_data"
    }
   ],
   "source": [
    "hist6 = thinkstats2.Hist(df.bath_3quarter_count, label='bath_3quarter_count')\n",
    "\n",
    "thinkplot.Hist(hist6)\n",
    "thinkplot.Config(xlabel='Number of Three-Quarter Bathrooms', ylabel='Frequency', title='Histogram_6')"
   ]
  },
  {
   "cell_type": "markdown",
   "id": "6bfeee6b",
   "metadata": {},
   "source": [
    "### square_feet_lot Variable"
   ]
  },
  {
   "cell_type": "code",
   "execution_count": 18,
   "id": "cd62eb4a",
   "metadata": {},
   "outputs": [
    {
     "data": {
      "image/png": "[encoded data removed]",
      "text/plain": [
       "<Figure size 640x480 with 1 Axes>"
      ]
     },
     "metadata": {},
     "output_type": "display_data"
    }
   ],
   "source": [
    "hist7 = thinkstats2.Hist(df.square_feet_lot, label='square_feet_lot')\n",
    "\n",
    "thinkplot.Hist(hist7)\n",
    "# axis scale allows for a zoomed-in look\n",
    "thinkplot.Config(xlabel='Square Feet of Lot', ylabel='Frequency', title='Histogram_7', axis=[0, 100000, 0, 5])"
   ]
  },
  {
   "cell_type": "markdown",
   "id": "923c2d6c",
   "metadata": {},
   "source": [
    "# Identify any outliers, explain the reasoning for them being outliers, and how you believe they should be handled."
   ]
  },
  {
   "cell_type": "markdown",
   "id": "08d2e275",
   "metadata": {},
   "source": [
    "### square_feet_home Variable"
   ]
  },
  {
   "cell_type": "code",
   "execution_count": 19,
   "id": "95db658f",
   "metadata": {},
   "outputs": [
    {
     "name": "stdout",
     "output_type": "stream",
     "text": [
      "SqFt_Home: 13540 Freq: 3\n",
      "SqFt_Home: 13210 Freq: 2\n",
      "SqFt_Home: 11810 Freq: 1\n",
      "SqFt_Home: 10630 Freq: 1\n"
     ]
    }
   ],
   "source": [
    "# largest outliers identified and printed in square_feet_home\n",
    "\n",
    "for item, frequency in hist2.Largest(4):\n",
    "    print(\"SqFt_Home:\", item, \"Freq:\", frequency)"
   ]
  },
  {
   "cell_type": "code",
   "execution_count": 20,
   "id": "f1134e1d",
   "metadata": {},
   "outputs": [
    {
     "name": "stdout",
     "output_type": "stream",
     "text": [
      "SqFt_Home: 240 Freq: 1\n",
      "SqFt_Home: 310 Freq: 1\n",
      "SqFt_Home: 340 Freq: 1\n",
      "SqFt_Home: 410 Freq: 1\n",
      "SqFt_Home: 430 Freq: 1\n",
      "SqFt_Home: 480 Freq: 2\n"
     ]
    }
   ],
   "source": [
    "# smallest outliers identified and printed in square_feet_home\n",
    "\n",
    "for item, frequency in hist2.Smallest(6):\n",
    "    print(\"SqFt_Home:\", item, \"Freq:\", frequency)"
   ]
  },
  {
   "cell_type": "markdown",
   "id": "bdcb4b16",
   "metadata": {},
   "source": [
    "The histogram scaling is thrown off due to the outliers present in this variable. After going through the data, I have identified 4 significant ouliers on the larger end of the range, and 6 minor outliers on the smaller end of the range. On the larger end of the range, likely the houses listed with such large living square footage are one-off custom homes, and not a part of the usual offerings in the suburbs. These homes should ideally not be included in any modeling, since their sales price would also be one-off and beyond the capabilities of replicating through any measurable factors. On the smaller end of the range, there are several living spaces that smaller than usual. However these should remain a part of the data set as these represent an introducion into what are likely condominiums."
   ]
  },
  {
   "cell_type": "markdown",
   "id": "7568299c",
   "metadata": {},
   "source": [
    "### square_feet_lot Variable"
   ]
  },
  {
   "cell_type": "code",
   "execution_count": 21,
   "id": "ce19cf21",
   "metadata": {},
   "outputs": [
    {
     "name": "stdout",
     "output_type": "stream",
     "text": [
      "SqFt_Lot: 1631322 Freq: 1\n",
      "SqFt_Lot: 1327090 Freq: 1\n",
      "SqFt_Lot: 1166246 Freq: 2\n",
      "SqFt_Lot: 1127205 Freq: 2\n",
      "SqFt_Lot: 1008414 Freq: 2\n"
     ]
    }
   ],
   "source": [
    "# largest outliers identified and printed in square_feet_lot\n",
    "\n",
    "for item, frequency in hist7.Largest(5):\n",
    "    print(\"SqFt_Lot:\", item, \"Freq:\", frequency)"
   ]
  },
  {
   "cell_type": "code",
   "execution_count": 22,
   "id": "df10a90a",
   "metadata": {},
   "outputs": [
    {
     "name": "stdout",
     "output_type": "stream",
     "text": [
      "SqFt_Lot: 785 Freq: 1\n",
      "SqFt_Lot: 829 Freq: 1\n",
      "SqFt_Lot: 835 Freq: 1\n",
      "SqFt_Lot: 921 Freq: 1\n",
      "SqFt_Lot: 952 Freq: 2\n",
      "SqFt_Lot: 975 Freq: 1\n",
      "SqFt_Lot: 977 Freq: 1\n",
      "SqFt_Lot: 982 Freq: 1\n"
     ]
    }
   ],
   "source": [
    "# smallest outliers identified and printed in square_feet_lot\n",
    "\n",
    "for item, frequency in hist7.Smallest(8):\n",
    "    print(\"SqFt_Lot:\", item, \"Freq:\", frequency)"
   ]
  },
  {
   "cell_type": "markdown",
   "id": "36b3040a",
   "metadata": {},
   "source": [
    "The histogram scaling is significantly thrown off due to the outliers present in this variable, further exascerbating the range of the dataset. After going through the data, I have identified 4 significant ouliers on the larger end of the range, and 6 minor outliers on the smaller end of the range. On the larger end of the range, likely the lot sizes listed with such large land square footage are scattered farming ranges, or protected private land. These lots should ideally not be included in any modeling, since at that point buyers are paying for the land and farming assets rather than any house itself located on the plot. On the smaller end of the range, there are small reasonably smaller lots, but nothing that stands out and unrealistically small. These lots are likely for lots artifically split, or lots for vertical townhomes"
   ]
  },
  {
   "cell_type": "markdown",
   "id": "b95cf38b",
   "metadata": {},
   "source": [
    "### bath_full_count Variable"
   ]
  },
  {
   "cell_type": "code",
   "execution_count": 23,
   "id": "c93f21df",
   "metadata": {},
   "outputs": [
    {
     "name": "stdout",
     "output_type": "stream",
     "text": [
      "Full_Bath: 23 Freq: 1\n"
     ]
    }
   ],
   "source": [
    "# largest outlier identified and printed in bath_full_count\n",
    "\n",
    "for item, frequency in hist4.Largest(1):\n",
    "    print(\"Full_Bath:\", item, \"Freq:\", frequency)"
   ]
  },
  {
   "cell_type": "markdown",
   "id": "74c67ba0",
   "metadata": {},
   "source": [
    "After going through the data, I have identified 1 significant oulier on the larger end of the range. This datapoint suggests that there is a home with 23 total full-sized bathrooms. This is likely due to the house being a commercial unit, posing as an air-bnb or a hotel of some sort. This data point should ideally not be included in any modeling, since the outlier is far beyond the remaining range for the variable in the dataset."
   ]
  },
  {
   "cell_type": "markdown",
   "id": "da0c5d1f",
   "metadata": {},
   "source": [
    "# Include the other descriptive characteristics about the variables: Mean, Mode, Spread, and Tails."
   ]
  },
  {
   "cell_type": "markdown",
   "id": "e9dc57b1",
   "metadata": {},
   "source": [
    "### building_grade Variable"
   ]
  },
  {
   "cell_type": "code",
   "execution_count": 24,
   "id": "235ec183",
   "metadata": {},
   "outputs": [
    {
     "name": "stdout",
     "output_type": "stream",
     "text": [
      "Mean: 8.24041974349009\n",
      "Mode: 0    8\n",
      "Name: building_grade, dtype: int64\n",
      "Spread: 1.1938263163390286\n",
      "Tail: 0.6023871771071538\n",
      "Tail Length: 1.15999927187716\n"
     ]
    }
   ],
   "source": [
    "print(\"Mean:\", df.building_grade.mean())\n",
    "print(\"Mode:\", df.building_grade.mode())\n",
    "print(\"Spread:\", df.building_grade.var())\n",
    "print(\"Tail:\", scipy.stats.skew(df.building_grade))\n",
    "print(\"Tail Length:\", scipy.stats.kurtosis(df.building_grade))"
   ]
  },
  {
   "cell_type": "markdown",
   "id": "d4176f3d",
   "metadata": {},
   "source": [
    "The average grade is 8.24.\n",
    "The mode grade is 8.\n",
    "The spread of grade distribution is 1.19.\n",
    "The distribution tail is positively skewed to the right."
   ]
  },
  {
   "cell_type": "markdown",
   "id": "170906d1",
   "metadata": {},
   "source": [
    "### square_feet_home Variable"
   ]
  },
  {
   "cell_type": "code",
   "execution_count": 25,
   "id": "799b5aba",
   "metadata": {},
   "outputs": [
    {
     "name": "stdout",
     "output_type": "stream",
     "text": [
      "Mean: 2539.5061795569372\n",
      "Mode: 0    1510\n",
      "Name: square_feet_home, dtype: int64\n",
      "Spread: 979738.8053295113\n",
      "Tail: 1.613514790524295\n",
      "Tail Length: 8.587936458598204\n"
     ]
    }
   ],
   "source": [
    "print(\"Mean:\", df.square_feet_home.mean())\n",
    "print(\"Mode:\", df.square_feet_home.mode())\n",
    "print(\"Spread:\", df.square_feet_home.var())\n",
    "print(\"Tail:\", scipy.stats.skew(df.square_feet_home))\n",
    "print(\"Tail Length:\", scipy.stats.kurtosis(df.square_feet_home))"
   ]
  },
  {
   "cell_type": "markdown",
   "id": "478a02d1",
   "metadata": {},
   "source": [
    "The average home sq ft is 239.51.\n",
    "The mode home sq ft is 1510.\n",
    "The spread of home sq ft distribution is 979738.81.\n",
    "The distribution tail is positively skewed to the right."
   ]
  },
  {
   "cell_type": "markdown",
   "id": "976f9fa1",
   "metadata": {},
   "source": [
    "### total_bedrooms Variable"
   ]
  },
  {
   "cell_type": "code",
   "execution_count": 26,
   "id": "7a5d0448",
   "metadata": {},
   "outputs": [
    {
     "name": "stdout",
     "output_type": "stream",
     "text": [
      "Mean: 3.478663039253789\n",
      "Mode: 0    4\n",
      "Name: total_bedrooms, dtype: int64\n",
      "Spread: 0.7675989586656375\n",
      "Tail: 0.040177211406595414\n",
      "Tail Length: 1.0842873744571362\n"
     ]
    }
   ],
   "source": [
    "print(\"Mean:\", df.total_bedrooms.mean())\n",
    "print(\"Mode:\", df.total_bedrooms.mode())\n",
    "print(\"Spread:\", df.total_bedrooms.var())\n",
    "print(\"Tail:\", scipy.stats.skew(df.total_bedrooms))\n",
    "print(\"Tail Length:\", scipy.stats.kurtosis(df.total_bedrooms))"
   ]
  },
  {
   "cell_type": "markdown",
   "id": "5c1dc9ff",
   "metadata": {},
   "source": [
    "The average total bedroom is 3.48.\n",
    "The mode total bedroom is 4.\n",
    "The spread of total bedroom distribution is 0.77.\n",
    "The distribution tail is positively skewed to the right."
   ]
  },
  {
   "cell_type": "markdown",
   "id": "295d4ae8",
   "metadata": {},
   "source": [
    "### bath_full_count Variable"
   ]
  },
  {
   "cell_type": "code",
   "execution_count": 27,
   "id": "66c2e0b8",
   "metadata": {},
   "outputs": [
    {
     "name": "stdout",
     "output_type": "stream",
     "text": [
      "Mean: 1.7984453944811505\n",
      "Mode: 0    2\n",
      "Name: bath_full_count, dtype: int64\n",
      "Spread: 0.4235361402276994\n",
      "Tail: 3.0400053724372182\n",
      "Tail Length: 88.33034341075107\n"
     ]
    }
   ],
   "source": [
    "print(\"Mean:\", df.bath_full_count.mean())\n",
    "print(\"Mode:\", df.bath_full_count.mode())\n",
    "print(\"Spread:\", df.bath_full_count.var())\n",
    "print(\"Tail:\", scipy.stats.skew(df.bath_full_count))\n",
    "print(\"Tail Length:\", scipy.stats.kurtosis(df.bath_full_count))"
   ]
  },
  {
   "cell_type": "markdown",
   "id": "b21695f1",
   "metadata": {},
   "source": [
    "The average full bath count is 1.80.\n",
    "The mode full bath count is 2.\n",
    "The spread of full bath count distribution is 0.42.\n",
    "The distribution tail is positively skewed to the right."
   ]
  },
  {
   "cell_type": "markdown",
   "id": "c0897e02",
   "metadata": {},
   "source": [
    "### bath_half_count Variable"
   ]
  },
  {
   "cell_type": "code",
   "execution_count": 28,
   "id": "80b16f5f",
   "metadata": {},
   "outputs": [
    {
     "name": "stdout",
     "output_type": "stream",
     "text": [
      "Mean: 0.6133696074621064\n",
      "Mode: 0    1\n",
      "Name: bath_half_count, dtype: int64\n",
      "Spread: 0.2769667620892121\n",
      "Tail: 0.2965900447747792\n",
      "Tail Length: 3.68370297001056\n"
     ]
    }
   ],
   "source": [
    "print(\"Mean:\", df.bath_half_count.mean())\n",
    "print(\"Mode:\", df.bath_half_count.mode())\n",
    "print(\"Spread:\", df.bath_half_count.var())\n",
    "print(\"Tail:\", scipy.stats.skew(df.bath_half_count))\n",
    "print(\"Tail Length:\", scipy.stats.kurtosis(df.bath_half_count))"
   ]
  },
  {
   "cell_type": "markdown",
   "id": "badc26f0",
   "metadata": {},
   "source": [
    "The average half bath count is 0.61.\n",
    "The mode half bath count is 1.\n",
    "The spread of half bath count distribution is 0.28.\n",
    "The distribution tail is positively skewed to the right."
   ]
  },
  {
   "cell_type": "markdown",
   "id": "16501b14",
   "metadata": {},
   "source": [
    "### bath_3quarter_count Variable"
   ]
  },
  {
   "cell_type": "code",
   "execution_count": 29,
   "id": "45681d8b",
   "metadata": {},
   "outputs": [
    {
     "name": "stdout",
     "output_type": "stream",
     "text": [
      "Mean: 0.4939759036144578\n",
      "Mode: 0    0\n",
      "Name: bath_3quarter_count, dtype: int64\n",
      "Spread: 0.42255776838698667\n",
      "Tail: 1.4674021592340147\n",
      "Tail Length: 5.557214530264989\n"
     ]
    }
   ],
   "source": [
    "print(\"Mean:\", df.bath_3quarter_count.mean())\n",
    "print(\"Mode:\", df.bath_3quarter_count.mode())\n",
    "print(\"Spread:\", df.bath_3quarter_count.var())\n",
    "print(\"Tail:\", scipy.stats.skew(df.bath_3quarter_count))\n",
    "print(\"Tail Length:\", scipy.stats.kurtosis(df.bath_3quarter_count))"
   ]
  },
  {
   "cell_type": "markdown",
   "id": "0e7fb0aa",
   "metadata": {},
   "source": [
    "The average 3quarter bath count is 0.49.\n",
    "The mode 3quarter bath count is 0.\n",
    "The spread of 3quarter bath count distribution is 0.42.\n",
    "The distribution tail is positively skewed to the right."
   ]
  },
  {
   "cell_type": "markdown",
   "id": "bff2b89b",
   "metadata": {},
   "source": [
    "### square_feet_lot Variable"
   ]
  },
  {
   "cell_type": "code",
   "execution_count": 30,
   "id": "e0c59fe4",
   "metadata": {},
   "outputs": [
    {
     "name": "stdout",
     "output_type": "stream",
     "text": [
      "Mean: 22228.568208317138\n",
      "Mode: 0    8400\n",
      "Name: square_feet_lot, dtype: int64\n",
      "Spread: 3241399674.84132\n",
      "Tail: 10.375005732113362\n",
      "Tail Length: 173.88078963417743\n"
     ]
    }
   ],
   "source": [
    "print(\"Mean:\", df.square_feet_lot.mean())\n",
    "print(\"Mode:\", df.square_feet_lot.mode())\n",
    "print(\"Spread:\", df.square_feet_lot.var())\n",
    "print(\"Tail:\", scipy.stats.skew(df.square_feet_lot))\n",
    "print(\"Tail Length:\", scipy.stats.kurtosis(df.square_feet_lot))"
   ]
  },
  {
   "cell_type": "markdown",
   "id": "c4857efc",
   "metadata": {},
   "source": [
    "The average lot sq ft is 22228.57.\n",
    "The mode lot sq ft is 8400.\n",
    "The spread of lot sq ft distribution is 3241399674.84.\n",
    "The distribution tail is positively skewed to the right."
   ]
  },
  {
   "cell_type": "markdown",
   "id": "af1208d1",
   "metadata": {},
   "source": [
    "# Plot and compare three scenarios in your data using a PMF."
   ]
  },
  {
   "cell_type": "markdown",
   "id": "fea27156",
   "metadata": {},
   "source": [
    "### bath_full_count + bath_half_count + bath_3quarter_count Variables"
   ]
  },
  {
   "cell_type": "code",
   "execution_count": 31,
   "id": "f027243f",
   "metadata": {},
   "outputs": [
    {
     "data": {
      "image/png": "[encoded data removed]",
      "text/plain": [
       "<Figure size 640x480 with 1 Axes>"
      ]
     },
     "metadata": {},
     "output_type": "display_data"
    }
   ],
   "source": [
    "# assigning 3 variables to a PMF and combining all three into a single graph as visual steps\n",
    "\n",
    "full_pmf = thinkstats2.Pmf(df.bath_full_count, label='Full Bathroom')\n",
    "half_pmf = thinkstats2.Pmf(df.bath_half_count, label='1/2 Bathroom')\n",
    "three_quarter_pmf = thinkstats2.Pmf(df.bath_3quarter_count, label='3/4 Bathroom')\n",
    "\n",
    "thinkplot.PrePlot(3)\n",
    "thinkplot.Pmfs([full_pmf, half_pmf, three_quarter_pmf])\n",
    "thinkplot.Config(xlabel='Bathroom Count', ylabel='Probability', title='PMF Step', axis=[-1, 5, 0, 0.7])"
   ]
  },
  {
   "cell_type": "markdown",
   "id": "29e0e523",
   "metadata": {},
   "source": [
    "I wanted to take a look at overall  bathrooms in a house (any size), but filtered in by probability through a pmf, by bathroom size (full, 1/2, 3/4). I wanted to understand: what is the probability in any selected house of there being a full bathroom and how many, what is the probability in any selected house of there being a 1/2 bathroom and how many, and what is the probability in any selected house of there being a 3/4 bathroom and how many. According to the PMF graph, the lower the number of bathrooms in a home the higher the probability there are more 3/4 bathrooms. The higher the number of bathrooms in a home, the higher the probability there are more full bathrooms. And the probability for 1/2 bathroom is somewhere in the middle of those two extremes."
   ]
  },
  {
   "cell_type": "markdown",
   "id": "e53a9f2a",
   "metadata": {},
   "source": [
    "# Create and plot a CDF with one of your variables. What does this tell you about your variable and how does it address the question you are trying to answer?"
   ]
  },
  {
   "cell_type": "markdown",
   "id": "f1621920",
   "metadata": {},
   "source": [
    "### building_grade Variable"
   ]
  },
  {
   "cell_type": "code",
   "execution_count": 32,
   "id": "c66fbfec",
   "metadata": {},
   "outputs": [
    {
     "data": {
      "image/png": "[encoded data removed]",
      "text/plain": [
       "<Figure size 640x480 with 1 Axes>"
      ]
     },
     "metadata": {},
     "output_type": "display_data"
    }
   ],
   "source": [
    "# assigning a variable to a CDF and graphing it visually as steps\n",
    "\n",
    "building_grade_cdf = thinkstats2.Cdf(df.building_grade, label='Building Grade')\n",
    "\n",
    "thinkplot.Cdf(building_grade_cdf)\n",
    "thinkplot.Config(xlabel='Square Feet of Home', ylabel='CDF', title='CDF Step')"
   ]
  },
  {
   "cell_type": "markdown",
   "id": "784e81d6",
   "metadata": {},
   "source": [
    "According to the CDF graph, I can interpret a couple of helpful details about the variable: building_grade. To reiterate, building grade is the construction quality rating of a home on a scale of 1 to 13. Anything 6 or less is considered not up to code, and anything higher than 10 are custom builds. It looks like about 10% of homes are rated less than grade 7, and 90% of homes are rated less than grade 10. This translated to qualitative details according to the grade scale. In other words, 10% of homes hardly meet building construction code, and 90% of homes are not custom builds. A majority of the homes fall within grades 7-10, the most common grades fall within 7-9 with a mode at grade 8. This is important in addressing the question because this graph represents an identifiable distribution of home construction quality. An identifyable pattern demonstrates that this variable likely influences the overall purchase price of a home, and provides a good idea on the distribution of quality of build across the range."
   ]
  },
  {
   "cell_type": "markdown",
   "id": "f01111cb",
   "metadata": {},
   "source": [
    "# Plot an analytical distribution and provide your analysis on how it applies to the dataset you have chosen."
   ]
  },
  {
   "cell_type": "markdown",
   "id": "9a49c5a2",
   "metadata": {},
   "source": [
    "### square_feet_home Variable Normal Probability Plot"
   ]
  },
  {
   "cell_type": "code",
   "execution_count": 33,
   "id": "8c9e049c",
   "metadata": {},
   "outputs": [
    {
     "data": {
      "image/png": "[encoded data removed]",
      "text/plain": [
       "<Figure size 640x480 with 1 Axes>"
      ]
     },
     "metadata": {},
     "output_type": "display_data"
    }
   ],
   "source": [
    "# assigning variables to the normal and probability parameters\n",
    "\n",
    "sqft_home = df.square_feet_home\n",
    "mean, var = thinkstats2.TrimmedMeanVar(sqft_home, p=0.01)\n",
    "std = np.sqrt(var)\n",
    "xs = [-4, 4]\n",
    "\n",
    "# graphing the normal mode line and home size probability line\n",
    "\n",
    "fxs, fys = thinkstats2.FitLine(xs, mean, std)\n",
    "thinkplot.Plot(fxs, fys, linewidth=2, label=\"Normal Mode\")\n",
    "xs, ys = thinkstats2.NormalProbability(sqft_home)\n",
    "thinkplot.Plot(xs, ys, label=\"All Home Sizes\")\n",
    "thinkplot.Config(xlabel=\"Std Dev From Mean\", ylabel=\"Square Feet of Home\", title='Probability vs. Normal')"
   ]
  },
  {
   "cell_type": "markdown",
   "id": "5ef14fc2",
   "metadata": {},
   "source": [
    "A normal probability plot is a visual test for normality, and good way to compare data against a straight normal distribution. In this normal probability plot I observe deviations on both the left and the right tail, both of which start to diverge from the normal mode line approximately 2 standard deviations in either direction from the mean. This behavior shows that home are larger than expected in 2 scenarios: they're larger than expected on the smaller square feet end and they're still larger than expected on the larger square feet end, but by a much larger margin. This is helpful with predictive analysis, as the actual size of the house is always either as expected through predictive analysis or larger than expected through predicitve analysis."
   ]
  },
  {
   "cell_type": "markdown",
   "id": "0e675593",
   "metadata": {},
   "source": [
    "# Create two scatter plots comparing two variables each, and provide your analysis on correlation and causation."
   ]
  },
  {
   "cell_type": "code",
   "execution_count": 34,
   "id": "7e576760",
   "metadata": {},
   "outputs": [],
   "source": [
    "# defining covariance and Pearson's correlation function using the book as a source\n",
    "\n",
    "def Cov(xs, ys, meanx=None, meany=None):\n",
    "    xs = np.asarray(xs)\n",
    "    ys = np.asarray(ys)\n",
    "    if meanx is None:\n",
    "        meanx = np.mean(xs)\n",
    "    if meany is None:\n",
    "        meany = np.mean(ys)\n",
    "    cov = np.dot(xs-meanx, ys-meany) / len(xs)\n",
    "    return cov\n",
    "\n",
    "def PCorr(xs, ys):\n",
    "    xs = np.asarray(xs)\n",
    "    ys = np.asarray(ys)\n",
    "    meanx, varx = thinkstats2.MeanVar(xs)\n",
    "    meany, vary = thinkstats2.MeanVar(ys)\n",
    "    pcorr = Cov(xs, ys, meanx, meany) / np.sqrt(varx * vary)\n",
    "    return pcorr"
   ]
  },
  {
   "cell_type": "markdown",
   "id": "48d1e0cf",
   "metadata": {},
   "source": [
    "###  square_feet_home Variable vs. square_feet_lot Variable"
   ]
  },
  {
   "cell_type": "code",
   "execution_count": 35,
   "id": "a2b5dc17",
   "metadata": {},
   "outputs": [
    {
     "data": {
      "image/png": "[encoded data removed]",
      "text/plain": [
       "<Figure size 640x480 with 1 Axes>"
      ]
     },
     "metadata": {},
     "output_type": "display_data"
    }
   ],
   "source": [
    "# defining two variables and creating a scatter plot\n",
    "\n",
    "sqft_home = df.square_feet_home\n",
    "sqft_lot = df.square_feet_lot\n",
    "\n",
    "thinkplot.Scatter(sqft_home, sqft_lot, alpha=0.2)\n",
    "thinkplot.Config(xlabel=\"Square Feet of Home\", ylabel=\"Square Feet of Lot\", title='Scatter_1')"
   ]
  },
  {
   "cell_type": "code",
   "execution_count": 36,
   "id": "c0568491",
   "metadata": {},
   "outputs": [
    {
     "name": "stdout",
     "output_type": "stream",
     "text": [
      "P-Correlation: 0.2341045027798383\n",
      "Covariance: 13191599.419807808\n"
     ]
    }
   ],
   "source": [
    "# calculating Person's correlation and covariance\n",
    "\n",
    "print(\"P-Correlation:\", PCorr(sqft_home, sqft_lot))\n",
    "print(\"Covariance:\", Cov(sqft_home, sqft_lot))"
   ]
  },
  {
   "cell_type": "markdown",
   "id": "2c73bd7c",
   "metadata": {},
   "source": [
    "I wanted to understand if a larger lot of land relates to a larger home size, or if there is any hint of such a relationship between the two independent variables. The two variables return a Pearson's correlation value of 0.23. The coefficient is positive, indicating a positive correlation between the two variables, suggesting that as one variable changes the other variable changes in the same direction. But because the coefficent value is between 0 and 0.3 the relationship between the two variables can be considered to have weak correlation. The two variables also return a covariance coefficient of 13191599.42. The coefficient is extremely high, making it seem almost arbitrary. But what's important here is that the sign of the value is positive, indicating that both variables vary in the same direction similar to that of a direct or non-inverse relationship. Additionally, a linear relationship may be observed in the scatterplot, but is not obvious. For this understand the Pearson's correlation coefficient is more important. Pearson's correlation only measures linear relationships, and the coefficient value is noticeably greater than zero. Therefore I can conclude that there likely is a linear relationship between the two variable. This by default negates the acceptance of a non-linear relationship, proving that the two variables do in fact maintain a positive linear relationship."
   ]
  },
  {
   "cell_type": "markdown",
   "id": "1702880a",
   "metadata": {},
   "source": [
    "### total_bedrooms Variable vs. bath_full_count Variable"
   ]
  },
  {
   "cell_type": "code",
   "execution_count": 37,
   "id": "72484865",
   "metadata": {},
   "outputs": [
    {
     "data": {
      "image/png": "[encoded data removed]",
      "text/plain": [
       "<Figure size 640x480 with 1 Axes>"
      ]
     },
     "metadata": {},
     "output_type": "display_data"
    }
   ],
   "source": [
    "# defining two variables and creating a scatter plot\n",
    "\n",
    "tot_bed = df.total_bedrooms\n",
    "bath_full = df.bath_full_count\n",
    "\n",
    "thinkplot.Scatter(tot_bed, bath_full, alpha=1)\n",
    "# outlier is visible that was mentioned in an earlier section\n",
    "thinkplot.Config(xlabel=\"Total Bedrooms\", ylabel=\"Total Full Bathrooms\", title='Scatter_2')"
   ]
  },
  {
   "cell_type": "code",
   "execution_count": 38,
   "id": "d46855ce",
   "metadata": {},
   "outputs": [
    {
     "name": "stdout",
     "output_type": "stream",
     "text": [
      "P-Correlation: 0.3045989435012622\n",
      "Covariance: 0.1736629040641335\n"
     ]
    }
   ],
   "source": [
    "# calculating Person's correlation and covariance\n",
    "\n",
    "print(\"P-Correlation:\", PCorr(tot_bed, bath_full))\n",
    "print(\"Covariance:\", Cov(tot_bed, bath_full))"
   ]
  },
  {
   "cell_type": "markdown",
   "id": "0d5ab4d3",
   "metadata": {},
   "source": [
    "I wanted to understand if an increase of number of total bedrooms also means an increase in the number of total full-sized bathrooms, or if there is any hint of such a relationship between the two independent variables. The two variables return a Pearson's correlation value of 0.30. The coefficient is positive, indicating a positive correlation between the two variables, suggesting that as one variable changes the other variable changes in the same direction. But because the coefficent value is between 0.3 and 0.5 the relationship between the two variables can be considered to have moderate correlation. The two variables also return a covariance coefficient of 0.174. The coefficient return a low value but the the sign of the value is positive, indicating that both variables vary in the same direction similar to that of a direct or non-inverse relationship. Additionally, a linear relationship can be observed in the scatterplot. Pearson's correlation only measures linear relationships, and the coefficient value is far enough from zero to conclude that there is a linear relationship between the two variable. This by default negates the acceptance of a non-linear relationship, proving that the two variables do in fact maintain a positive linear relationship."
   ]
  },
  {
   "cell_type": "markdown",
   "id": "6b9056e3",
   "metadata": {},
   "source": [
    "# Conduct a test on your hypothesis using the Tested Correlation Method."
   ]
  },
  {
   "cell_type": "markdown",
   "id": "9083144f",
   "metadata": {},
   "source": [
    "### square_feet_lot Variable vs. square_feet_home Variable"
   ]
  },
  {
   "cell_type": "code",
   "execution_count": 39,
   "id": "565d0e9f",
   "metadata": {},
   "outputs": [],
   "source": [
    "# defining a hypothesis testing class and its iteration functions using the book as a source\n",
    "\n",
    "class HypothesisTest(object):\n",
    "\n",
    "    def __init__(self, data):\n",
    "        self.data = data\n",
    "        self.MakeModel()\n",
    "        self.actual = self.TestStatistic(data)\n",
    "\n",
    "    def PValue(self, iters=1000):\n",
    "        self.test_stats = [self.TestStatistic(self.RunModel()) \n",
    "                           for _ in range(iters)]\n",
    "        count = sum(1 for x in self.test_stats if x >= self.actual)\n",
    "        return count / iters\n",
    "\n",
    "    def TestStatistic(self, data):\n",
    "        raise UnimplementedMethodException()\n",
    "\n",
    "    def MakeModel(self):\n",
    "        pass\n",
    "\n",
    "    def RunModel(self):\n",
    "        raise UnimplementedMethodException()\n",
    "\n",
    "# defining a correlation test class and its comparative functions using the book as a source\n",
    "\n",
    "class CorrelationPermute(thinkstats2.HypothesisTest):\n",
    "\n",
    "    def TestStatistic(self, data):\n",
    "        xs, ys = data\n",
    "        test_stat = abs(thinkstats2.Corr(xs, ys))\n",
    "        return test_stat\n",
    "\n",
    "    def RunModel(self):\n",
    "        xs, ys = self.data\n",
    "        xs = np.random.permutation(xs)\n",
    "        return xs, ys"
   ]
  },
  {
   "cell_type": "code",
   "execution_count": 40,
   "id": "5153d492",
   "metadata": {},
   "outputs": [
    {
     "name": "stdout",
     "output_type": "stream",
     "text": [
      "P-Value: 0.0\n",
      "Actual P-Correlation: 0.2341045027798383\n",
      "Largest Simulated: 0.032051934972579195\n"
     ]
    }
   ],
   "source": [
    "# running the tested correlation medthod\n",
    "\n",
    "data =  df.square_feet_home, df.square_feet_lot\n",
    "ht = CorrelationPermute(data)\n",
    "pvalue = ht.PValue()\n",
    "\n",
    "print(\"P-Value:\", pvalue)\n",
    "print(\"Actual P-Correlation:\", ht.actual)\n",
    "print(\"Largest Simulated:\", ht.MaxTestStat())"
   ]
  },
  {
   "cell_type": "markdown",
   "id": "a4d037d7",
   "metadata": {},
   "source": [
    "According to what was observed in the scatterplot of square_feet_home variable vs. square_feet_lot variable, there appears to be an observed linear correlation. To understand if this observation is statistically significant, I ran a permutation test between the two. The subsequent output p-value is 0.0, which means that in 1000 trials a correlation was not observed that exceeded the observed correlation under the null hypothesis. That means that the p-value is likely very small and close to 0, but it is not actually 0. And to get a sense of how unexpected the observed value is under the null hypothesis, I compared the actual correlation to the largest correlation value observed in the hypothesis testing simulation."
   ]
  },
  {
   "cell_type": "markdown",
   "id": "c1c417fc",
   "metadata": {},
   "source": [
    "# Conduct a regression analysis on one dependent and multiple independent variables."
   ]
  },
  {
   "cell_type": "markdown",
   "id": "5d0de121",
   "metadata": {},
   "source": [
    "### Variables"
   ]
  },
  {
   "cell_type": "markdown",
   "id": "0fc463ea",
   "metadata": {},
   "source": [
    "Dependent Variable (integer)\n",
    "* sale_price\n",
    "\n",
    "Independent Variables (integer)\n",
    "* building_grade\n",
    "* square_feet_home\n",
    "* total_bedrooms\n",
    "* bath_full_count\n",
    "* bath_half_count\n",
    "* bath_3quarter_count\n",
    "* square_feet_lot"
   ]
  },
  {
   "cell_type": "code",
   "execution_count": 41,
   "id": "9058cd0c",
   "metadata": {},
   "outputs": [
    {
     "data": {
      "text/html": [
       "<table class=\"simpletable\">\n",
       "<caption>OLS Regression Results</caption>\n",
       "<tr>\n",
       "  <th>Dep. Variable:</th>       <td>sale_price</td>    <th>  R-squared:         </th>  <td>   0.217</td>  \n",
       "</tr>\n",
       "<tr>\n",
       "  <th>Model:</th>                   <td>OLS</td>       <th>  Adj. R-squared:    </th>  <td>   0.217</td>  \n",
       "</tr>\n",
       "<tr>\n",
       "  <th>Method:</th>             <td>Least Squares</td>  <th>  F-statistic:       </th>  <td>   508.9</td>  \n",
       "</tr>\n",
       "<tr>\n",
       "  <th>Date:</th>             <td>Sun, 30 Jun 2024</td> <th>  Prob (F-statistic):</th>   <td>  0.00</td>   \n",
       "</tr>\n",
       "<tr>\n",
       "  <th>Time:</th>                 <td>15:20:51</td>     <th>  Log-Likelihood:    </th> <td>-1.8277e+05</td>\n",
       "</tr>\n",
       "<tr>\n",
       "  <th>No. Observations:</th>      <td> 12865</td>      <th>  AIC:               </th>  <td>3.656e+05</td> \n",
       "</tr>\n",
       "<tr>\n",
       "  <th>Df Residuals:</th>          <td> 12857</td>      <th>  BIC:               </th>  <td>3.656e+05</td> \n",
       "</tr>\n",
       "<tr>\n",
       "  <th>Df Model:</th>              <td>     7</td>      <th>                     </th>      <td> </td>     \n",
       "</tr>\n",
       "<tr>\n",
       "  <th>Covariance Type:</th>      <td>nonrobust</td>    <th>                     </th>      <td> </td>     \n",
       "</tr>\n",
       "</table>\n",
       "<table class=\"simpletable\">\n",
       "<tr>\n",
       "           <td></td>              <th>coef</th>     <th>std err</th>      <th>t</th>      <th>P>|t|</th>  <th>[0.025</th>    <th>0.975]</th>  \n",
       "</tr>\n",
       "<tr>\n",
       "  <th>Intercept</th>           <td>-3.133e+04</td> <td> 3.17e+04</td> <td>   -0.988</td> <td> 0.323</td> <td>-9.35e+04</td> <td> 3.08e+04</td>\n",
       "</tr>\n",
       "<tr>\n",
       "  <th>building_grade</th>      <td> 3.733e+04</td> <td> 4441.097</td> <td>    8.405</td> <td> 0.000</td> <td> 2.86e+04</td> <td>  4.6e+04</td>\n",
       "</tr>\n",
       "<tr>\n",
       "  <th>square_feet_home</th>    <td>  151.0935</td> <td>    6.487</td> <td>   23.291</td> <td> 0.000</td> <td>  138.377</td> <td>  163.810</td>\n",
       "</tr>\n",
       "<tr>\n",
       "  <th>total_bedrooms</th>      <td>-1.645e+04</td> <td> 4598.343</td> <td>   -3.576</td> <td> 0.000</td> <td>-2.55e+04</td> <td>-7432.537</td>\n",
       "</tr>\n",
       "<tr>\n",
       "  <th>bath_full_count</th>     <td> 3.048e+04</td> <td> 7262.665</td> <td>    4.197</td> <td> 0.000</td> <td> 1.62e+04</td> <td> 4.47e+04</td>\n",
       "</tr>\n",
       "<tr>\n",
       "  <th>bath_half_count</th>     <td> 7802.5100</td> <td> 7156.473</td> <td>    1.090</td> <td> 0.276</td> <td>-6225.240</td> <td> 2.18e+04</td>\n",
       "</tr>\n",
       "<tr>\n",
       "  <th>bath_3quarter_count</th> <td>-9373.0748</td> <td> 6978.754</td> <td>   -1.343</td> <td> 0.179</td> <td>-2.31e+04</td> <td> 4306.320</td>\n",
       "</tr>\n",
       "<tr>\n",
       "  <th>square_feet_lot</th>     <td>    0.1357</td> <td>    0.058</td> <td>    2.344</td> <td> 0.019</td> <td>    0.022</td> <td>    0.249</td>\n",
       "</tr>\n",
       "</table>\n",
       "<table class=\"simpletable\">\n",
       "<tr>\n",
       "  <th>Omnibus:</th>       <td>14376.566</td> <th>  Durbin-Watson:     </th>  <td>   0.525</td>  \n",
       "</tr>\n",
       "<tr>\n",
       "  <th>Prob(Omnibus):</th>  <td> 0.000</td>   <th>  Jarque-Bera (JB):  </th> <td>1246758.306</td>\n",
       "</tr>\n",
       "<tr>\n",
       "  <th>Skew:</th>           <td> 5.841</td>   <th>  Prob(JB):          </th>  <td>    0.00</td>  \n",
       "</tr>\n",
       "<tr>\n",
       "  <th>Kurtosis:</th>       <td>49.791</td>   <th>  Cond. No.          </th>  <td>6.20e+05</td>  \n",
       "</tr>\n",
       "</table><br/><br/>Notes:<br/>[1] Standard Errors assume that the covariance matrix of the errors is correctly specified.<br/>[2] The condition number is large, 6.2e+05. This might indicate that there are<br/>strong multicollinearity or other numerical problems."
      ],
      "text/latex": [
       "\\begin{center}\n",
       "\\begin{tabular}{lclc}\n",
       "\\toprule\n",
       "\\textbf{Dep. Variable:}        &   sale\\_price    & \\textbf{  R-squared:         } &      0.217   \\\\\n",
       "\\textbf{Model:}                &       OLS        & \\textbf{  Adj. R-squared:    } &      0.217   \\\\\n",
       "\\textbf{Method:}               &  Least Squares   & \\textbf{  F-statistic:       } &      508.9   \\\\\n",
       "\\textbf{Date:}                 & Sun, 30 Jun 2024 & \\textbf{  Prob (F-statistic):} &      0.00    \\\\\n",
       "\\textbf{Time:}                 &     15:20:51     & \\textbf{  Log-Likelihood:    } & -1.8277e+05  \\\\\n",
       "\\textbf{No. Observations:}     &       12865      & \\textbf{  AIC:               } &  3.656e+05   \\\\\n",
       "\\textbf{Df Residuals:}         &       12857      & \\textbf{  BIC:               } &  3.656e+05   \\\\\n",
       "\\textbf{Df Model:}             &           7      & \\textbf{                     } &              \\\\\n",
       "\\textbf{Covariance Type:}      &    nonrobust     & \\textbf{                     } &              \\\\\n",
       "\\bottomrule\n",
       "\\end{tabular}\n",
       "\\begin{tabular}{lcccccc}\n",
       "                               & \\textbf{coef} & \\textbf{std err} & \\textbf{t} & \\textbf{P$> |$t$|$} & \\textbf{[0.025} & \\textbf{0.975]}  \\\\\n",
       "\\midrule\n",
       "\\textbf{Intercept}             &   -3.133e+04  &     3.17e+04     &    -0.988  &         0.323        &    -9.35e+04    &     3.08e+04     \\\\\n",
       "\\textbf{building\\_grade}       &    3.733e+04  &     4441.097     &     8.405  &         0.000        &     2.86e+04    &      4.6e+04     \\\\\n",
       "\\textbf{square\\_feet\\_home}    &     151.0935  &        6.487     &    23.291  &         0.000        &      138.377    &      163.810     \\\\\n",
       "\\textbf{total\\_bedrooms}       &   -1.645e+04  &     4598.343     &    -3.576  &         0.000        &    -2.55e+04    &    -7432.537     \\\\\n",
       "\\textbf{bath\\_full\\_count}     &    3.048e+04  &     7262.665     &     4.197  &         0.000        &     1.62e+04    &     4.47e+04     \\\\\n",
       "\\textbf{bath\\_half\\_count}     &    7802.5100  &     7156.473     &     1.090  &         0.276        &    -6225.240    &     2.18e+04     \\\\\n",
       "\\textbf{bath\\_3quarter\\_count} &   -9373.0748  &     6978.754     &    -1.343  &         0.179        &    -2.31e+04    &     4306.320     \\\\\n",
       "\\textbf{square\\_feet\\_lot}     &       0.1357  &        0.058     &     2.344  &         0.019        &        0.022    &        0.249     \\\\\n",
       "\\bottomrule\n",
       "\\end{tabular}\n",
       "\\begin{tabular}{lclc}\n",
       "\\textbf{Omnibus:}       & 14376.566 & \\textbf{  Durbin-Watson:     } &      0.525   \\\\\n",
       "\\textbf{Prob(Omnibus):} &    0.000  & \\textbf{  Jarque-Bera (JB):  } & 1246758.306  \\\\\n",
       "\\textbf{Skew:}          &    5.841  & \\textbf{  Prob(JB):          } &       0.00   \\\\\n",
       "\\textbf{Kurtosis:}      &   49.791  & \\textbf{  Cond. No.          } &   6.20e+05   \\\\\n",
       "\\bottomrule\n",
       "\\end{tabular}\n",
       "%\\caption{OLS Regression Results}\n",
       "\\end{center}\n",
       "\n",
       "Notes: \\newline\n",
       " [1] Standard Errors assume that the covariance matrix of the errors is correctly specified. \\newline\n",
       " [2] The condition number is large, 6.2e+05. This might indicate that there are \\newline\n",
       " strong multicollinearity or other numerical problems."
      ],
      "text/plain": [
       "<class 'statsmodels.iolib.summary.Summary'>\n",
       "\"\"\"\n",
       "                            OLS Regression Results                            \n",
       "==============================================================================\n",
       "Dep. Variable:             sale_price   R-squared:                       0.217\n",
       "Model:                            OLS   Adj. R-squared:                  0.217\n",
       "Method:                 Least Squares   F-statistic:                     508.9\n",
       "Date:                Sun, 30 Jun 2024   Prob (F-statistic):               0.00\n",
       "Time:                        15:20:51   Log-Likelihood:            -1.8277e+05\n",
       "No. Observations:               12865   AIC:                         3.656e+05\n",
       "Df Residuals:                   12857   BIC:                         3.656e+05\n",
       "Df Model:                           7                                         \n",
       "Covariance Type:            nonrobust                                         \n",
       "=======================================================================================\n",
       "                          coef    std err          t      P>|t|      [0.025      0.975]\n",
       "---------------------------------------------------------------------------------------\n",
       "Intercept           -3.133e+04   3.17e+04     -0.988      0.323   -9.35e+04    3.08e+04\n",
       "building_grade       3.733e+04   4441.097      8.405      0.000    2.86e+04     4.6e+04\n",
       "square_feet_home      151.0935      6.487     23.291      0.000     138.377     163.810\n",
       "total_bedrooms      -1.645e+04   4598.343     -3.576      0.000   -2.55e+04   -7432.537\n",
       "bath_full_count      3.048e+04   7262.665      4.197      0.000    1.62e+04    4.47e+04\n",
       "bath_half_count      7802.5100   7156.473      1.090      0.276   -6225.240    2.18e+04\n",
       "bath_3quarter_count -9373.0748   6978.754     -1.343      0.179   -2.31e+04    4306.320\n",
       "square_feet_lot         0.1357      0.058      2.344      0.019       0.022       0.249\n",
       "==============================================================================\n",
       "Omnibus:                    14376.566   Durbin-Watson:                   0.525\n",
       "Prob(Omnibus):                  0.000   Jarque-Bera (JB):          1246758.306\n",
       "Skew:                           5.841   Prob(JB):                         0.00\n",
       "Kurtosis:                      49.791   Cond. No.                     6.20e+05\n",
       "==============================================================================\n",
       "\n",
       "Notes:\n",
       "[1] Standard Errors assume that the covariance matrix of the errors is correctly specified.\n",
       "[2] The condition number is large, 6.2e+05. This might indicate that there are\n",
       "strong multicollinearity or other numerical problems.\n",
       "\"\"\""
      ]
     },
     "execution_count": 41,
     "metadata": {},
     "output_type": "execute_result"
    }
   ],
   "source": [
    "# fitting a multiple regression model to see how all variables may predict price of a house\n",
    "\n",
    "formula = 'sale_price ~ building_grade + square_feet_home + total_bedrooms + bath_full_count + bath_half_count + bath_3quarter_count + square_feet_lot'\n",
    "results = smf.ols(formula, data=df).fit()\n",
    "results.summary()"
   ]
  },
  {
   "cell_type": "code",
   "execution_count": 42,
   "id": "1b6e0e2d",
   "metadata": {},
   "outputs": [
    {
     "name": "stdout",
     "output_type": "stream",
     "text": [
      "Intercept: -31332.994727192585\n",
      "building_grade: 37326.61748274828\n",
      "square_feet_home: 151.0934669571378\n",
      "total_bedrooms: -16445.97262431466\n",
      "bath_full_count: 30481.57201216422\n",
      "bath_half_count: 7802.509989992648\n",
      "bath_3quarter_count: -9373.074826225966\n",
      "square_feet_lot: 0.1356704834311536\n"
     ]
    }
   ],
   "source": [
    "# extracting the intercept and then the slope of each independent variable\n",
    "\n",
    "print(\"Intercept:\", results.params['Intercept'])\n",
    "print(\"building_grade:\", results.params['building_grade'])\n",
    "print(\"square_feet_home:\", results.params['square_feet_home'])\n",
    "print(\"total_bedrooms:\", results.params['total_bedrooms'])\n",
    "print(\"bath_full_count:\", results.params['bath_full_count'])\n",
    "print(\"bath_half_count:\", results.params['bath_half_count'])\n",
    "print(\"bath_3quarter_count:\", results.params['bath_3quarter_count'])\n",
    "print(\"square_feet_lot:\", results.params['square_feet_lot'])"
   ]
  },
  {
   "cell_type": "code",
   "execution_count": 43,
   "id": "9f81839a",
   "metadata": {},
   "outputs": [
    {
     "name": "stdout",
     "output_type": "stream",
     "text": [
      "building_grade: 4.733057748676527e-17\n",
      "square_feet_home: 1.4745508776943683e-117\n",
      "total_bedrooms: 0.00034950451619367384\n",
      "bath_full_count: 2.722644271987373e-05\n",
      "bath_half_count: 0.27561331195083527\n",
      "bath_3quarter_count: 0.17926746830708923\n",
      "square_feet_lot: 0.019117648206851703\n"
     ]
    }
   ],
   "source": [
    "# extracting the p-value of each independent variable\n",
    "\n",
    "print(\"building_grade:\", results.pvalues['building_grade'])\n",
    "print(\"square_feet_home:\", results.pvalues['square_feet_home'])\n",
    "print(\"total_bedrooms:\", results.pvalues['total_bedrooms'])\n",
    "print(\"bath_full_count:\", results.pvalues['bath_full_count'])\n",
    "print(\"bath_half_count:\", results.pvalues['bath_half_count'])\n",
    "print(\"bath_3quarter_count:\", results.pvalues['bath_3quarter_count'])\n",
    "print(\"square_feet_lot:\", results.pvalues['square_feet_lot'])"
   ]
  },
  {
   "cell_type": "code",
   "execution_count": 44,
   "id": "a2fa1e7a",
   "metadata": {},
   "outputs": [
    {
     "name": "stdout",
     "output_type": "stream",
     "text": [
      "R-square: 0.21695436113715139\n"
     ]
    }
   ],
   "source": [
    "# extracting the R-square value\n",
    "\n",
    "print(\"R-square:\", results.rsquared)"
   ]
  },
  {
   "cell_type": "markdown",
   "id": "fc812709",
   "metadata": {},
   "source": [
    "Out of all the tested variables, a handful of them as significant according to the p-values extracted. The variables building_grade, square_feet_home, total_bedrooms, bath_full_count, and square_feet_lot are all statstically significant. These are unlikely to occur by chance and are relevent to suggesting the multiple regression model above. Over all, the R-square value indicates somewhat of a fit, providing a value of 0.217. The R-square value is still lower than ideal in this model, but also indiciates that all variables together account for less variation compared to on their own. The above model forces a linear relationship, and the contributions of the independent variables may be non-linear to account for some of variances explained through the results summary."
   ]
  },
  {
   "cell_type": "markdown",
   "id": "bbb6e1e4",
   "metadata": {},
   "source": [
    "# Summary"
   ]
  },
  {
   "cell_type": "markdown",
   "id": "4b977e4b",
   "metadata": {},
   "source": [
    "### Statistical/Hypothetical Question"
   ]
  },
  {
   "cell_type": "markdown",
   "id": "bb32f87b",
   "metadata": {},
   "source": [
    "The statistical question is which variables or attributes of a home can be used to best predict the value or sale price of a home? I used the dataset full of house sales in King County, Washington State, USA, from January 2006 to December 2016. Included are various variables such as, number of bedrooms, home size, lot side, number of bedrooms, etc. Understanding the relationships between various variables, their relationships, and to what extent do they contribute to the value of a home enabled me to explore an answer to my statistical question."
   ]
  },
  {
   "cell_type": "markdown",
   "id": "99020d3d",
   "metadata": {},
   "source": [
    "### Outcome of your exploratory data analysis."
   ]
  },
  {
   "cell_type": "markdown",
   "id": "d2794a54",
   "metadata": {},
   "source": [
    "Through my exploratory data analysis via the selected dataset, I was able to answer my statistical question. That yes there are aspect variables of a home that can be used to understand or predict the value or sale price of a home. Out of testing seven independent variables, five of those variables were significant contributors to the multiple regression model, according to their intercept R-squared values. The significant contributor variables according to the dataset are building grade, size of the home, size of the lot, total number of bedrooms, and total number of bathrooms. According to correlation tests, many of these variables increase or decrease in the same direction, which does make sense. Naturally a larger lot allows for a larger home to be built, and more bedrooms present generally require more bathrooms as well."
   ]
  },
  {
   "cell_type": "markdown",
   "id": "066f5dd1",
   "metadata": {},
   "source": [
    "### What do you feel was missed during the analysis?"
   ]
  },
  {
   "cell_type": "markdown",
   "id": "d688df2a",
   "metadata": {},
   "source": [
    "I feel that thoroughly cleaning and filtering the data was missed during the analysis. I used the dataset as is for the most part, only fixing obvious misspellings and incorrectly formatted cells in excel. Preparing the dataset by eliminating the outliers and finding additional researched data to differential between condominium and home sales would make the analysis more accurate. Furthermore, filtering analysis by postal_city_name would also help answer the question of how much difference does a home's location make to its value. Overall, cleaning the dataset and breaking up the dataset by location filters would have added additional credibility to the analysis."
   ]
  },
  {
   "cell_type": "markdown",
   "id": "b6c9afa8",
   "metadata": {},
   "source": [
    "### Were there any variables you felt could have helped in the analysis?"
   ]
  },
  {
   "cell_type": "markdown",
   "id": "3c3c8f5e",
   "metadata": {},
   "source": [
    "In real estate, the single largest variable in defining property value is location. I feel that understanding and utilizing the postal_city_name variable would've been helpful, as housing values vary greatly from city to city. This can be troublesome since the variables are characters and not integers. The dataset also includes longitude and latitude coordinates, which are integers. These can ideally be utilized instead through an online geographic API to establish location boundaries and analyze the variable that way."
   ]
  },
  {
   "cell_type": "markdown",
   "id": "cbbc615e",
   "metadata": {},
   "source": [
    "### Were there any assumptions made you felt were incorrect?"
   ]
  },
  {
   "cell_type": "markdown",
   "id": "353d0d68",
   "metadata": {},
   "source": [
    "I felt that assuming all items in the dataset are standalone homes was incorrect. Usually with housing data, condominiums and homes can be considered the same as both are properties that can be owned, however; the pricing scales of condominiums and homes are different even if they're similar in living conditions. I believe this may have made the dataset a little noisier and more unfiltered. This also let to some odd outliers that I had mentioned earlier on, where variables like square_feet_home and square_feet_lot were far too small for an actual home to be built around."
   ]
  },
  {
   "cell_type": "markdown",
   "id": "34017bd3",
   "metadata": {},
   "source": [
    "### What challenges did you face, what did you not fully understand?"
   ]
  },
  {
   "cell_type": "markdown",
   "id": "d20bfa5d",
   "metadata": {},
   "source": [
    "The biggest challenge I faced was fitting the multiple regression model. I had mentioned that the function defaults to fitting a linear model, which is usually incorrect especially when including as many independent variables as I did. My R-squared value was still surprising at over 0.2, so I believe that finding a way to accurately fit a multiple polynomial regression model would only increase the R-squared value."
   ]
  }
 ],
 "metadata": {
  "kernelspec": {
   "display_name": "Python 3 (ipykernel)",
   "language": "python",
   "name": "python3"
  },
  "language_info": {
   "codemirror_mode": {
    "name": "ipython",
    "version": 3
   },
   "file_extension": ".py",
   "mimetype": "text/x-python",
   "name": "python",
   "nbconvert_exporter": "python",
   "pygments_lexer": "ipython3",
   "version": "3.11.4"
  }
 },
 "nbformat": 4,
 "nbformat_minor": 5
}
