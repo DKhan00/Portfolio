{
 "cells": [
  {
   "cell_type": "markdown",
   "id": "b15c775e",
   "metadata": {},
   "source": [
    "# Danish Khan\n",
    "### Week 10 Assignment\n",
    "### DSC 630 Predictive Analytics\n",
    "### 5/12/2024"
   ]
  },
  {
   "cell_type": "code",
   "execution_count": 1,
   "id": "2e15c413",
   "metadata": {},
   "outputs": [],
   "source": [
    "import numpy as np\n",
    "import pandas as pd\n",
    "import warnings\n",
    "warnings.filterwarnings('ignore')"
   ]
  },
  {
   "cell_type": "markdown",
   "id": "50408295",
   "metadata": {},
   "source": [
    "### Recommender System"
   ]
  },
  {
   "cell_type": "code",
   "execution_count": 2,
   "id": "a0fce597",
   "metadata": {},
   "outputs": [
    {
     "name": "stdout",
     "output_type": "stream",
     "text": [
      "Enter a Movie: Heat (1995)\n"
     ]
    }
   ],
   "source": [
    "# asking user for movie input\n",
    "\n",
    "selection = input(\"Enter a Movie: \")"
   ]
  },
  {
   "cell_type": "code",
   "execution_count": 3,
   "id": "f7787147",
   "metadata": {},
   "outputs": [
    {
     "data": {
      "text/html": [
       "<div>\n",
       "<style scoped>\n",
       "    .dataframe tbody tr th:only-of-type {\n",
       "        vertical-align: middle;\n",
       "    }\n",
       "\n",
       "    .dataframe tbody tr th {\n",
       "        vertical-align: top;\n",
       "    }\n",
       "\n",
       "    .dataframe thead th {\n",
       "        text-align: right;\n",
       "    }\n",
       "</style>\n",
       "<table border=\"1\" class=\"dataframe\">\n",
       "  <thead>\n",
       "    <tr style=\"text-align: right;\">\n",
       "      <th></th>\n",
       "    </tr>\n",
       "    <tr>\n",
       "      <th>title</th>\n",
       "    </tr>\n",
       "  </thead>\n",
       "  <tbody>\n",
       "    <tr>\n",
       "      <th>Léon: The Professional (a.k.a. The Professional) (Léon) (1994)</th>\n",
       "    </tr>\n",
       "    <tr>\n",
       "      <th>Aliens (1986)</th>\n",
       "    </tr>\n",
       "    <tr>\n",
       "      <th>Inception (2010)</th>\n",
       "    </tr>\n",
       "    <tr>\n",
       "      <th>Reservoir Dogs (1992)</th>\n",
       "    </tr>\n",
       "    <tr>\n",
       "      <th>Fight Club (1999)</th>\n",
       "    </tr>\n",
       "    <tr>\n",
       "      <th>Memento (2000)</th>\n",
       "    </tr>\n",
       "    <tr>\n",
       "      <th>Die Hard (1988)</th>\n",
       "    </tr>\n",
       "    <tr>\n",
       "      <th>GoldenEye (1995)</th>\n",
       "    </tr>\n",
       "    <tr>\n",
       "      <th>Godfather, The (1972)</th>\n",
       "    </tr>\n",
       "    <tr>\n",
       "      <th>Ocean's Eleven (2001)</th>\n",
       "    </tr>\n",
       "  </tbody>\n",
       "</table>\n",
       "</div>"
      ],
      "text/plain": [
       "Empty DataFrame\n",
       "Columns: []\n",
       "Index: [Léon: The Professional (a.k.a. The Professional) (Léon) (1994), Aliens (1986), Inception (2010), Reservoir Dogs (1992), Fight Club (1999), Memento (2000), Die Hard (1988), GoldenEye (1995), Godfather, The (1972), Ocean's Eleven (2001)]"
      ]
     },
     "execution_count": 3,
     "metadata": {},
     "output_type": "execute_result"
    }
   ],
   "source": [
    "# importing dataframes\n",
    "ratings = pd.read_csv('ratings.csv')\n",
    "genres = pd.read_csv('movies.csv')\n",
    "\n",
    "# merging dataframes\n",
    "merged = ratings.merge(genres, on = 'movieId', how = 'left')\n",
    "\n",
    "# pivoting datagrame and reindexing to userId\n",
    "pivot = merged.pivot_table(index = 'userId', columns = 'title', values = 'rating')\n",
    "\n",
    "# creating a dataframe with taking the average and count of all ratings\n",
    "ave_ratings = pd.DataFrame(merged.groupby('title')['rating'].mean())\n",
    "ave_ratings['total ratings'] = pd.DataFrame(merged.groupby('title')['rating'].count())\n",
    "\n",
    "# calculating correlation using user selection, and adding correlation columns\n",
    "corr = pd.DataFrame(pivot.corrwith(pivot[selection]), columns = ['correlation']).join(ave_ratings['total ratings'])\n",
    "\n",
    "# creating top-10 recommendations and filtering through number of total ratings\n",
    "top_10 = corr[corr['total ratings'] > 100].sort_values('correlation', ascending = False)\n",
    "top_10.drop(columns = ['correlation', 'total ratings'], inplace = True)\n",
    "top_10.iloc[1:11]"
   ]
  },
  {
   "cell_type": "markdown",
   "id": "e89ae0e8",
   "metadata": {},
   "source": [
    "### Write Up"
   ]
  },
  {
   "cell_type": "markdown",
   "id": "140b35de",
   "metadata": {},
   "source": [
    "Full disclosure: I heavily referenced the steps in the \"Analytics India Magazine\" article link provided by the Professor (referenced below). After going through multiple resources, creating a movie recommender based on correlation coefficients seemed to be the most straight-forward method, without having to create and fit a model. The first step was to ask the user for which movie they like. The subsequent steps were for creating the necessary dataframes. I imported both the \"ratings.csv\" and \"movies.csv\" excel files, and merged them on \"movieId\" to match the movie titles to their respective ratings. This dataframe was then reindexed to \"userId.\" I created a new dataframe that calculated the average rating for each movie, and counted the total number of ratings based on \"userId.\" The final steps were for creating and sorting movie titles based on correlation. I created another new dataframe that assigned correlation coefficients to each movie in the pivot table, based on the user's movie input. I also a joined in the \"total ratings\" column. The recommender then only picks movies with over 100 total ratings, and sorts the correlation coefficients from high to low. After removing the previously added columns, the user is presented with a table that only contains the top 10 recommended movie titles, sorted from high to low correlation with the user's movie input. This final table also removes the highest movie correlation to avoid redundancy, which is the user's movie input."
   ]
  },
  {
   "cell_type": "markdown",
   "id": "09b61a48",
   "metadata": {},
   "source": [
    "### Reference"
   ]
  },
  {
   "cell_type": "markdown",
   "id": "5466ad13",
   "metadata": {},
   "source": [
    "AIM: https://analyticsindiamag.com/how-to-build-your-first-recommender-system-using-python-movielens-dataset/"
   ]
  }
 ],
 "metadata": {
  "kernelspec": {
   "display_name": "Python 3 (ipykernel)",
   "language": "python",
   "name": "python3"
  },
  "language_info": {
   "codemirror_mode": {
    "name": "ipython",
    "version": 3
   },
   "file_extension": ".py",
   "mimetype": "text/x-python",
   "name": "python",
   "nbconvert_exporter": "python",
   "pygments_lexer": "ipython3",
   "version": "3.11.4"
  }
 },
 "nbformat": 4,
 "nbformat_minor": 5
}
