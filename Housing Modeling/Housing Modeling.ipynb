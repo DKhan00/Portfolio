{
 "cells": [
  {
   "cell_type": "markdown",
   "id": "ebc12221",
   "metadata": {},
   "source": [
    "# Danish Khan\n",
    "### Term Project\n",
    "### DSC 550 Data Mining\n",
    "### 1/10/2024"
   ]
  },
  {
   "cell_type": "code",
   "execution_count": 1,
   "id": "1198a335",
   "metadata": {},
   "outputs": [],
   "source": [
    "import pandas as pd\n",
    "import numpy as np\n",
    "import matplotlib.pyplot as mpl\n",
    "from matplotlib import ticker\n",
    "from scipy import stats\n",
    "from sklearn.model_selection import train_test_split\n",
    "from sklearn.metrics import accuracy_score\n",
    "from sklearn.linear_model import LinearRegression\n",
    "from sklearn.preprocessing import StandardScaler\n",
    "from sklearn.preprocessing import PolynomialFeatures\n",
    "import warnings\n",
    "warnings.filterwarnings('ignore')"
   ]
  },
  {
   "cell_type": "markdown",
   "id": "e7ba974b",
   "metadata": {},
   "source": [
    "# Project Milestone 1"
   ]
  },
  {
   "cell_type": "markdown",
   "id": "40a5be2a",
   "metadata": {},
   "source": [
    "### Narrative"
   ]
  },
  {
   "cell_type": "markdown",
   "id": "8bfaea8a",
   "metadata": {},
   "source": [
    "One of the most unpredictable industries of our modern economy is the housing industry. Over the last several years, the housing industry has been valued at a range of prices that are far too wide to accurately predict for buyers and real estate agencies. The business problem of inaccurately predicting housing prices based on key factors by real estate agencies, can hinder quick sales and accurate property valuation. To solve this business problem, data analysis and modeling can be performed on factual historical sales data to accurately predict a home’s monetary price value as a target. The industry has established that location is the number one factor when determining a home’s value. To eliminate this bias, I’ve chose to analyze a focused location, which is my local residential area of King County in Washington State, USA. I will use the variety of values in my dataset, consisting of categories like lot size, home size, number of bathrooms, number of bedrooms, floors, view type, basement size, building grade quality, etc. The dataframe I have selected has home sales information that is compiled from May 2014 to May 2015, made up of all homes sold in my local county. To find a solution for this business problem, I will have to prepare the dataset to select for variables that would allow for the building of a potential predictive model. Since the target of the modeling will be price, which is a numerical value, the data used to model with will also be kept to numeric values."
   ]
  },
  {
   "cell_type": "markdown",
   "id": "568a03de",
   "metadata": {},
   "source": [
    "### Dataframe"
   ]
  },
  {
   "cell_type": "markdown",
   "id": "c2ca7d15",
   "metadata": {},
   "source": [
    "Data Source: Kaggle https://www.kaggle.com/datasets/harlfoxem/housesalesprediction"
   ]
  },
  {
   "cell_type": "code",
   "execution_count": 2,
   "id": "c89aa46d",
   "metadata": {},
   "outputs": [
    {
     "data": {
      "text/html": [
       "<div>\n",
       "<style scoped>\n",
       "    .dataframe tbody tr th:only-of-type {\n",
       "        vertical-align: middle;\n",
       "    }\n",
       "\n",
       "    .dataframe tbody tr th {\n",
       "        vertical-align: top;\n",
       "    }\n",
       "\n",
       "    .dataframe thead th {\n",
       "        text-align: right;\n",
       "    }\n",
       "</style>\n",
       "<table border=\"1\" class=\"dataframe\">\n",
       "  <thead>\n",
       "    <tr style=\"text-align: right;\">\n",
       "      <th></th>\n",
       "      <th>id</th>\n",
       "      <th>date</th>\n",
       "      <th>price</th>\n",
       "      <th>bedrooms</th>\n",
       "      <th>bathrooms</th>\n",
       "      <th>sqft_living</th>\n",
       "      <th>sqft_lot</th>\n",
       "      <th>floors</th>\n",
       "      <th>waterfront</th>\n",
       "      <th>view</th>\n",
       "      <th>...</th>\n",
       "      <th>grade</th>\n",
       "      <th>sqft_above</th>\n",
       "      <th>sqft_basement</th>\n",
       "      <th>yr_built</th>\n",
       "      <th>yr_renovated</th>\n",
       "      <th>zipcode</th>\n",
       "      <th>lat</th>\n",
       "      <th>long</th>\n",
       "      <th>sqft_living15</th>\n",
       "      <th>sqft_lot15</th>\n",
       "    </tr>\n",
       "  </thead>\n",
       "  <tbody>\n",
       "    <tr>\n",
       "      <th>0</th>\n",
       "      <td>7129300520</td>\n",
       "      <td>20141013T000000</td>\n",
       "      <td>221900.0</td>\n",
       "      <td>3</td>\n",
       "      <td>1.00</td>\n",
       "      <td>1180</td>\n",
       "      <td>5650</td>\n",
       "      <td>1.0</td>\n",
       "      <td>0</td>\n",
       "      <td>0</td>\n",
       "      <td>...</td>\n",
       "      <td>7</td>\n",
       "      <td>1180</td>\n",
       "      <td>0</td>\n",
       "      <td>1955</td>\n",
       "      <td>0</td>\n",
       "      <td>98178</td>\n",
       "      <td>47.5112</td>\n",
       "      <td>-122.257</td>\n",
       "      <td>1340</td>\n",
       "      <td>5650</td>\n",
       "    </tr>\n",
       "    <tr>\n",
       "      <th>1</th>\n",
       "      <td>6414100192</td>\n",
       "      <td>20141209T000000</td>\n",
       "      <td>538000.0</td>\n",
       "      <td>3</td>\n",
       "      <td>2.25</td>\n",
       "      <td>2570</td>\n",
       "      <td>7242</td>\n",
       "      <td>2.0</td>\n",
       "      <td>0</td>\n",
       "      <td>0</td>\n",
       "      <td>...</td>\n",
       "      <td>7</td>\n",
       "      <td>2170</td>\n",
       "      <td>400</td>\n",
       "      <td>1951</td>\n",
       "      <td>1991</td>\n",
       "      <td>98125</td>\n",
       "      <td>47.7210</td>\n",
       "      <td>-122.319</td>\n",
       "      <td>1690</td>\n",
       "      <td>7639</td>\n",
       "    </tr>\n",
       "    <tr>\n",
       "      <th>2</th>\n",
       "      <td>5631500400</td>\n",
       "      <td>20150225T000000</td>\n",
       "      <td>180000.0</td>\n",
       "      <td>2</td>\n",
       "      <td>1.00</td>\n",
       "      <td>770</td>\n",
       "      <td>10000</td>\n",
       "      <td>1.0</td>\n",
       "      <td>0</td>\n",
       "      <td>0</td>\n",
       "      <td>...</td>\n",
       "      <td>6</td>\n",
       "      <td>770</td>\n",
       "      <td>0</td>\n",
       "      <td>1933</td>\n",
       "      <td>0</td>\n",
       "      <td>98028</td>\n",
       "      <td>47.7379</td>\n",
       "      <td>-122.233</td>\n",
       "      <td>2720</td>\n",
       "      <td>8062</td>\n",
       "    </tr>\n",
       "    <tr>\n",
       "      <th>3</th>\n",
       "      <td>2487200875</td>\n",
       "      <td>20141209T000000</td>\n",
       "      <td>604000.0</td>\n",
       "      <td>4</td>\n",
       "      <td>3.00</td>\n",
       "      <td>1960</td>\n",
       "      <td>5000</td>\n",
       "      <td>1.0</td>\n",
       "      <td>0</td>\n",
       "      <td>0</td>\n",
       "      <td>...</td>\n",
       "      <td>7</td>\n",
       "      <td>1050</td>\n",
       "      <td>910</td>\n",
       "      <td>1965</td>\n",
       "      <td>0</td>\n",
       "      <td>98136</td>\n",
       "      <td>47.5208</td>\n",
       "      <td>-122.393</td>\n",
       "      <td>1360</td>\n",
       "      <td>5000</td>\n",
       "    </tr>\n",
       "    <tr>\n",
       "      <th>4</th>\n",
       "      <td>1954400510</td>\n",
       "      <td>20150218T000000</td>\n",
       "      <td>510000.0</td>\n",
       "      <td>3</td>\n",
       "      <td>2.00</td>\n",
       "      <td>1680</td>\n",
       "      <td>8080</td>\n",
       "      <td>1.0</td>\n",
       "      <td>0</td>\n",
       "      <td>0</td>\n",
       "      <td>...</td>\n",
       "      <td>8</td>\n",
       "      <td>1680</td>\n",
       "      <td>0</td>\n",
       "      <td>1987</td>\n",
       "      <td>0</td>\n",
       "      <td>98074</td>\n",
       "      <td>47.6168</td>\n",
       "      <td>-122.045</td>\n",
       "      <td>1800</td>\n",
       "      <td>7503</td>\n",
       "    </tr>\n",
       "    <tr>\n",
       "      <th>...</th>\n",
       "      <td>...</td>\n",
       "      <td>...</td>\n",
       "      <td>...</td>\n",
       "      <td>...</td>\n",
       "      <td>...</td>\n",
       "      <td>...</td>\n",
       "      <td>...</td>\n",
       "      <td>...</td>\n",
       "      <td>...</td>\n",
       "      <td>...</td>\n",
       "      <td>...</td>\n",
       "      <td>...</td>\n",
       "      <td>...</td>\n",
       "      <td>...</td>\n",
       "      <td>...</td>\n",
       "      <td>...</td>\n",
       "      <td>...</td>\n",
       "      <td>...</td>\n",
       "      <td>...</td>\n",
       "      <td>...</td>\n",
       "      <td>...</td>\n",
       "    </tr>\n",
       "    <tr>\n",
       "      <th>21608</th>\n",
       "      <td>263000018</td>\n",
       "      <td>20140521T000000</td>\n",
       "      <td>360000.0</td>\n",
       "      <td>3</td>\n",
       "      <td>2.50</td>\n",
       "      <td>1530</td>\n",
       "      <td>1131</td>\n",
       "      <td>3.0</td>\n",
       "      <td>0</td>\n",
       "      <td>0</td>\n",
       "      <td>...</td>\n",
       "      <td>8</td>\n",
       "      <td>1530</td>\n",
       "      <td>0</td>\n",
       "      <td>2009</td>\n",
       "      <td>0</td>\n",
       "      <td>98103</td>\n",
       "      <td>47.6993</td>\n",
       "      <td>-122.346</td>\n",
       "      <td>1530</td>\n",
       "      <td>1509</td>\n",
       "    </tr>\n",
       "    <tr>\n",
       "      <th>21609</th>\n",
       "      <td>6600060120</td>\n",
       "      <td>20150223T000000</td>\n",
       "      <td>400000.0</td>\n",
       "      <td>4</td>\n",
       "      <td>2.50</td>\n",
       "      <td>2310</td>\n",
       "      <td>5813</td>\n",
       "      <td>2.0</td>\n",
       "      <td>0</td>\n",
       "      <td>0</td>\n",
       "      <td>...</td>\n",
       "      <td>8</td>\n",
       "      <td>2310</td>\n",
       "      <td>0</td>\n",
       "      <td>2014</td>\n",
       "      <td>0</td>\n",
       "      <td>98146</td>\n",
       "      <td>47.5107</td>\n",
       "      <td>-122.362</td>\n",
       "      <td>1830</td>\n",
       "      <td>7200</td>\n",
       "    </tr>\n",
       "    <tr>\n",
       "      <th>21610</th>\n",
       "      <td>1523300141</td>\n",
       "      <td>20140623T000000</td>\n",
       "      <td>402101.0</td>\n",
       "      <td>2</td>\n",
       "      <td>0.75</td>\n",
       "      <td>1020</td>\n",
       "      <td>1350</td>\n",
       "      <td>2.0</td>\n",
       "      <td>0</td>\n",
       "      <td>0</td>\n",
       "      <td>...</td>\n",
       "      <td>7</td>\n",
       "      <td>1020</td>\n",
       "      <td>0</td>\n",
       "      <td>2009</td>\n",
       "      <td>0</td>\n",
       "      <td>98144</td>\n",
       "      <td>47.5944</td>\n",
       "      <td>-122.299</td>\n",
       "      <td>1020</td>\n",
       "      <td>2007</td>\n",
       "    </tr>\n",
       "    <tr>\n",
       "      <th>21611</th>\n",
       "      <td>291310100</td>\n",
       "      <td>20150116T000000</td>\n",
       "      <td>400000.0</td>\n",
       "      <td>3</td>\n",
       "      <td>2.50</td>\n",
       "      <td>1600</td>\n",
       "      <td>2388</td>\n",
       "      <td>2.0</td>\n",
       "      <td>0</td>\n",
       "      <td>0</td>\n",
       "      <td>...</td>\n",
       "      <td>8</td>\n",
       "      <td>1600</td>\n",
       "      <td>0</td>\n",
       "      <td>2004</td>\n",
       "      <td>0</td>\n",
       "      <td>98027</td>\n",
       "      <td>47.5345</td>\n",
       "      <td>-122.069</td>\n",
       "      <td>1410</td>\n",
       "      <td>1287</td>\n",
       "    </tr>\n",
       "    <tr>\n",
       "      <th>21612</th>\n",
       "      <td>1523300157</td>\n",
       "      <td>20141015T000000</td>\n",
       "      <td>325000.0</td>\n",
       "      <td>2</td>\n",
       "      <td>0.75</td>\n",
       "      <td>1020</td>\n",
       "      <td>1076</td>\n",
       "      <td>2.0</td>\n",
       "      <td>0</td>\n",
       "      <td>0</td>\n",
       "      <td>...</td>\n",
       "      <td>7</td>\n",
       "      <td>1020</td>\n",
       "      <td>0</td>\n",
       "      <td>2008</td>\n",
       "      <td>0</td>\n",
       "      <td>98144</td>\n",
       "      <td>47.5941</td>\n",
       "      <td>-122.299</td>\n",
       "      <td>1020</td>\n",
       "      <td>1357</td>\n",
       "    </tr>\n",
       "  </tbody>\n",
       "</table>\n",
       "<p>21613 rows × 21 columns</p>\n",
       "</div>"
      ],
      "text/plain": [
       "               id             date     price  bedrooms  bathrooms  \\\n",
       "0      7129300520  20141013T000000  221900.0         3       1.00   \n",
       "1      6414100192  20141209T000000  538000.0         3       2.25   \n",
       "2      5631500400  20150225T000000  180000.0         2       1.00   \n",
       "3      2487200875  20141209T000000  604000.0         4       3.00   \n",
       "4      1954400510  20150218T000000  510000.0         3       2.00   \n",
       "...           ...              ...       ...       ...        ...   \n",
       "21608   263000018  20140521T000000  360000.0         3       2.50   \n",
       "21609  6600060120  20150223T000000  400000.0         4       2.50   \n",
       "21610  1523300141  20140623T000000  402101.0         2       0.75   \n",
       "21611   291310100  20150116T000000  400000.0         3       2.50   \n",
       "21612  1523300157  20141015T000000  325000.0         2       0.75   \n",
       "\n",
       "       sqft_living  sqft_lot  floors  waterfront  view  ...  grade  \\\n",
       "0             1180      5650     1.0           0     0  ...      7   \n",
       "1             2570      7242     2.0           0     0  ...      7   \n",
       "2              770     10000     1.0           0     0  ...      6   \n",
       "3             1960      5000     1.0           0     0  ...      7   \n",
       "4             1680      8080     1.0           0     0  ...      8   \n",
       "...            ...       ...     ...         ...   ...  ...    ...   \n",
       "21608         1530      1131     3.0           0     0  ...      8   \n",
       "21609         2310      5813     2.0           0     0  ...      8   \n",
       "21610         1020      1350     2.0           0     0  ...      7   \n",
       "21611         1600      2388     2.0           0     0  ...      8   \n",
       "21612         1020      1076     2.0           0     0  ...      7   \n",
       "\n",
       "       sqft_above  sqft_basement  yr_built  yr_renovated  zipcode      lat  \\\n",
       "0            1180              0      1955             0    98178  47.5112   \n",
       "1            2170            400      1951          1991    98125  47.7210   \n",
       "2             770              0      1933             0    98028  47.7379   \n",
       "3            1050            910      1965             0    98136  47.5208   \n",
       "4            1680              0      1987             0    98074  47.6168   \n",
       "...           ...            ...       ...           ...      ...      ...   \n",
       "21608        1530              0      2009             0    98103  47.6993   \n",
       "21609        2310              0      2014             0    98146  47.5107   \n",
       "21610        1020              0      2009             0    98144  47.5944   \n",
       "21611        1600              0      2004             0    98027  47.5345   \n",
       "21612        1020              0      2008             0    98144  47.5941   \n",
       "\n",
       "          long  sqft_living15  sqft_lot15  \n",
       "0     -122.257           1340        5650  \n",
       "1     -122.319           1690        7639  \n",
       "2     -122.233           2720        8062  \n",
       "3     -122.393           1360        5000  \n",
       "4     -122.045           1800        7503  \n",
       "...        ...            ...         ...  \n",
       "21608 -122.346           1530        1509  \n",
       "21609 -122.362           1830        7200  \n",
       "21610 -122.299           1020        2007  \n",
       "21611 -122.069           1410        1287  \n",
       "21612 -122.299           1020        1357  \n",
       "\n",
       "[21613 rows x 21 columns]"
      ]
     },
     "execution_count": 2,
     "metadata": {},
     "output_type": "execute_result"
    }
   ],
   "source": [
    "# importing original data and converting to dataframe\n",
    "\n",
    "df = pd.read_csv('kc_house_data.csv')\n",
    "df"
   ]
  },
  {
   "cell_type": "code",
   "execution_count": 3,
   "id": "4aac7afc",
   "metadata": {},
   "outputs": [
    {
     "data": {
      "text/plain": [
       "id                 int64\n",
       "date              object\n",
       "price            float64\n",
       "bedrooms           int64\n",
       "bathrooms        float64\n",
       "sqft_living        int64\n",
       "sqft_lot           int64\n",
       "floors           float64\n",
       "waterfront         int64\n",
       "view               int64\n",
       "condition          int64\n",
       "grade              int64\n",
       "sqft_above         int64\n",
       "sqft_basement      int64\n",
       "yr_built           int64\n",
       "yr_renovated       int64\n",
       "zipcode            int64\n",
       "lat              float64\n",
       "long             float64\n",
       "sqft_living15      int64\n",
       "sqft_lot15         int64\n",
       "dtype: object"
      ]
     },
     "execution_count": 3,
     "metadata": {},
     "output_type": "execute_result"
    }
   ],
   "source": [
    "# checking if all data is numeric and not string for graphing\n",
    "\n",
    "df.dtypes"
   ]
  },
  {
   "cell_type": "markdown",
   "id": "10de8f79",
   "metadata": {},
   "source": [
    "### Graphical Analysis"
   ]
  },
  {
   "cell_type": "code",
   "execution_count": 4,
   "id": "0f9ea1ec",
   "metadata": {},
   "outputs": [
    {
     "data": {
      "image/png": "[encoded data removed]",
      "text/plain": [
       "<Figure size 640x480 with 1 Axes>"
      ]
     },
     "metadata": {},
     "output_type": "display_data"
    }
   ],
   "source": [
    "# visualizing price distribution with a boxplot\n",
    "\n",
    "mpl.boxplot(df.price)\n",
    "mpl.title(\"Price Boxplot\")\n",
    "mpl.xlabel(\"Variable\")\n",
    "mpl.ylabel(\"Price ($million)\")\n",
    "mpl.show()"
   ]
  },
  {
   "cell_type": "markdown",
   "id": "d58e192e",
   "metadata": {},
   "source": [
    "This graph visually tells me what the rough range of pricing prediction the business model can accurately make. Based on the quartile sections I can determine that a majority of the home prices without extreme outliers is roughly 300k to 700k. There are still quite a few outliers in terms of housing price beyond the data range of 1.1million."
   ]
  },
  {
   "cell_type": "code",
   "execution_count": 5,
   "id": "981ebbb7",
   "metadata": {},
   "outputs": [
    {
     "data": {
      "image/png": "[encoded data removed]",
      "text/plain": [
       "<Figure size 640x480 with 1 Axes>"
      ]
     },
     "metadata": {},
     "output_type": "display_data"
    }
   ],
   "source": [
    "# visualizing the size of living space and lot size with a scatterplot\n",
    "\n",
    "mpl.scatter(df.sqft_living, df.sqft_lot)\n",
    "mpl.ylim(0, 250000)\n",
    "mpl.title(\"Living Space vs Lot Size\")\n",
    "mpl.xlabel(\"Living Space (SqFt)\")\n",
    "mpl.ylabel(\"Lot Size (SqFt)\")\n",
    "mpl.ticklabel_format(style='plain')\n",
    "mpl.show()"
   ]
  },
  {
   "cell_type": "markdown",
   "id": "f1a1754a",
   "metadata": {},
   "source": [
    "This graph helps me to understand the relationship between living space and lot space, while showing me the range of home and lot sizes present in the data. I was expecting a much more linear relationship between the two variables, but this is just not the case. Even after setting an axis range limit for lot size to disregard extreme outliers, there is still far too much grouping of the data to conclude any relationship between the two variables. In a positive sense, this shows that the variables can independently be used to predict house prices, and that there is no strong background correlation that can influence the model when both variables are used at the same time for predictive pricing."
   ]
  },
  {
   "cell_type": "code",
   "execution_count": 6,
   "id": "a3467ce2",
   "metadata": {},
   "outputs": [
    {
     "data": {
      "image/png": "[encoded data removed]",
      "text/plain": [
       "<Figure size 640x480 with 1 Axes>"
      ]
     },
     "metadata": {},
     "output_type": "display_data"
    }
   ],
   "source": [
    "# visualizing the distribution of number of bathroom types across all homes with a histogram\n",
    "\n",
    "mpl.hist(df.bathrooms, bins=32)\n",
    "mpl.title(\"Bathroom Distribution\")\n",
    "mpl.xlabel(\"Number of Bathrooms\")\n",
    "mpl.ylabel(\"Number of Homes\")\n",
    "mpl.show()"
   ]
  },
  {
   "cell_type": "markdown",
   "id": "80891bd9",
   "metadata": {},
   "source": [
    "This graph shows me the number of bathrooms across all homes in the dataset, but as a distribution. The definition of bathrooms in the world of real estate is a little different. They use decimals to indicate bathroom parameters such as 0.5 means there's an added shower. It's only appropraite when visualizing this variable that it's treated as categorical to understand distribution. Here I can see that bathroom sizes are coded mostly between 1 and 3 in a strong majority of the homes. For modeling because the range is so small, I can treat it as a numeric variable to feed into the model for a predictive output. If the range was far too great, I would've converted this column to a categorical binary variable through forming dummy variable columns in the dataset. This will forutnately not be case, but I had to double check with a histogram while treating the variable as categorical first."
   ]
  },
  {
   "cell_type": "code",
   "execution_count": 7,
   "id": "79ed2aab",
   "metadata": {},
   "outputs": [
    {
     "data": {
      "image/png": "[encoded data removed]",
      "text/plain": [
       "<Figure size 640x480 with 1 Axes>"
      ]
     },
     "metadata": {},
     "output_type": "display_data"
    }
   ],
   "source": [
    "# visualizing how year of home built may afect building quality rating wtih a scatterplot and a line of fit\n",
    "\n",
    "x = df.grade\n",
    "y = df.yr_built\n",
    "z = np.polyfit(x, y, 1)\n",
    "p = np.poly1d(z)\n",
    "\n",
    "mpl.scatter(x, y)\n",
    "mpl.plot(x, p(x))\n",
    "mpl.title(\"Building Grade Over Time\")\n",
    "mpl.xlabel(\"Building Grade\")\n",
    "mpl.ylabel(\"Year Built\")\n",
    "mpl.show()"
   ]
  },
  {
   "cell_type": "markdown",
   "id": "7bf63de8",
   "metadata": {},
   "source": [
    "This graph tells me the possible trend of whether or not the year a home was built affects the official quality grade assigned, based on state contruction standards. One of the key aspects of a home's value is the year it was built, and natural reasoning would suggest that the newer a home is, the better built it will be. Originally the scatterplot barely suggested this visually, but to make sure I'm making the correct conclusion, I added a polynomial line of fit with 1 degree to act as a linear line of fit. The slope is visually positive which indicates a positive relationship between the two variables."
   ]
  },
  {
   "cell_type": "markdown",
   "id": "572e9d8d",
   "metadata": {},
   "source": [
    "### Overview"
   ]
  },
  {
   "cell_type": "markdown",
   "id": "bb37d904",
   "metadata": {},
   "source": [
    "From the graphical analysis, I've been able to both understand the range and types of homes present in the dataset and which variables are interrelated or truly independent This is important to consider when modeling, as some variables can have an additive effect when used to predict a home's price. From the price range in the dataset I can expect an accurate predictive output between 100k and 1.1million with a majority of the prices between 300k to 700k. Bathrooms can be treated as a numerical variable rather than a categorical variable, thanks to the narrow distribution range present in my data set. It also seems that lot size and living size can be treated as individual variables rather than ones with a positive correlation between them. This is unexpected, but in a way a good thing because either living size or lot size can be used to help determine a home's value, rather than forced to be used together as most people would assume. When comparing a home's building grade and the year built, this puts perspective on whether or not it's important to consider the year a house is built given how frequently places can be renovated. I was able to determine a positive correlation between the two using a line of fit, but visually most homes reside between the grades of 6 and 10 irrespective of the year built."
   ]
  },
  {
   "cell_type": "markdown",
   "id": "ca567e18",
   "metadata": {},
   "source": [
    "# Project Milestone 2"
   ]
  },
  {
   "cell_type": "markdown",
   "id": "ef365c84",
   "metadata": {},
   "source": [
    "### Data Preparation"
   ]
  },
  {
   "cell_type": "code",
   "execution_count": 8,
   "id": "3427d49c",
   "metadata": {},
   "outputs": [
    {
     "data": {
      "text/plain": [
       "(21613, 12)"
      ]
     },
     "execution_count": 8,
     "metadata": {},
     "output_type": "execute_result"
    }
   ],
   "source": [
    "# keeping only columns of interest\n",
    "\n",
    "df = df[['price', 'bedrooms', 'bathrooms', 'sqft_living', 'sqft_lot', 'floors', 'waterfront', 'condition', 'grade',\n",
    "         'sqft_basement', 'yr_built', 'yr_renovated']]\n",
    "df.shape"
   ]
  },
  {
   "cell_type": "markdown",
   "id": "09d9fff0",
   "metadata": {},
   "source": [
    "This step is for removing dataframe columns I decided I do not need, and believe aren't necessary for the model. I dropped the \"ID\" column since a unique identifier to a sales transaction adds nothing to the model. The \"date\" column was dropped since I chose a narrow enough timeframe of housing sales to avoid taking into account inflation or seasonal fluctuations. I also dropped the \"view\" column since it only refers to how many spots in the house from which an open view of the landscape can be observed. I already have a waterfront variable as binary information, which has a significanly larger influence over housing price compared to any other natural view. I removed \"sqft_above\" since this variable refers to living space above a home's basement. A strong majority of the homes do not have a a basement so this value becomes a duplicate with the \"sqft_living\" variable. As a result, I later converted the \"sqft_basement\" variable to binary to compensate for dropping the \"sqft_above\" variable. Furthermore, I also removed the \"zipcode\", \"lat\", and \"long\" variables. Zipcode is actually a categorical variable and lattitude and longtitude don't really help too much in this scenario. Since where I live the county is smaller and the city boundaries are extremely small. For instance, my own city is only 17 square miles large, most of which is without housing areas. Finally, I also removed the columns \"sqft_living15\" and \"sqft_lot15\" since these are updated values as of the final year of the dataset. These are unnecessary because most of the values are duplicates compared to the \"sqft_living\" and \"sqft_lot\" variables I'm already using."
   ]
  },
  {
   "cell_type": "code",
   "execution_count": 9,
   "id": "2beb01fb",
   "metadata": {},
   "outputs": [
    {
     "data": {
      "text/plain": [
       "(21613, 12)"
      ]
     },
     "execution_count": 9,
     "metadata": {},
     "output_type": "execute_result"
    }
   ],
   "source": [
    "# checking for any NaN values and removing entire row\n",
    "\n",
    "df.dropna(how='any')\n",
    "df.shape"
   ]
  },
  {
   "cell_type": "markdown",
   "id": "878c1ce5",
   "metadata": {},
   "source": [
    "This step is for dealing with NaN or missing values, but in a unique way. I ran a search for any NaN values, and if any are found then I asked to delete the entire row. My thought behind this is I want a clean, natural dataset with each row containing a complete set of variables without the need of using median nor mean values from other rows. Houses can have strong differences between each other, and simply using median or mean values to fill NaN values could strongly misrepresent the housing price listed. There were no missing values in the dataset since the dataframe dimensions remained the same after running the search."
   ]
  },
  {
   "cell_type": "code",
   "execution_count": 10,
   "id": "4c482be0",
   "metadata": {},
   "outputs": [
    {
     "data": {
      "text/plain": [
       "(21605, 12)"
      ]
     },
     "execution_count": 10,
     "metadata": {},
     "output_type": "execute_result"
    }
   ],
   "source": [
    "# checking for any duplicate rows and removing all\n",
    "\n",
    "df.drop_duplicates(inplace=True)\n",
    "df.shape"
   ]
  },
  {
   "cell_type": "markdown",
   "id": "c8f47369",
   "metadata": {},
   "source": [
    "This step is for identifying and deleting any duplicate rows in the dataframe. I specifically searched for any duplicate rows and dropped them after first dropping the ID column, since there are no duplicate sales transaction identifications anyway. My goal here was to eliminate the same house that has been sold multiple times in the short period of time, since having the same set of parameters with multiple prices would affect the overall target variable of price in the model. I believe it's best not to have the same set of independent variable values match different dependent variable values. There were only a few such scenarios that led to duplicate rows, since the dataframe dimensions reduced by a handful of rows."
   ]
  },
  {
   "cell_type": "code",
   "execution_count": 11,
   "id": "c31fbe67",
   "metadata": {},
   "outputs": [
    {
     "data": {
      "text/plain": [
       "(21287, 12)"
      ]
     },
     "execution_count": 11,
     "metadata": {},
     "output_type": "execute_result"
    }
   ],
   "source": [
    "# removing all rows that have data outside standard deviation of 6 in any respective column, using z-score\n",
    "\n",
    "z = np.abs(stats.zscore(df))\n",
    "threshold = 6\n",
    "df = df[(z < threshold).all(axis=1)]\n",
    "df.shape"
   ]
  },
  {
   "cell_type": "markdown",
   "id": "db0e9a5c",
   "metadata": {},
   "source": [
    "This step is for dealing with outliers using a methodical approach. I believe the question I'm trying to answer is primarily of use as a business strategy. As a result, I wanted to evluate the dataframe's data distribution and outliers from a business perspective. In my MBA I learned about the importance of six sigma in the world of manufacturing tolerance assessment. This is where greater than 99% of the represented data points should fall between an upper specificiation limit of plus 6 standard deviations and a lower specification limit of minus 6 standard deviations. Therefore, I applied a z-score filter of 6 standard deviations sorting through each column, and dropping the entire row where the data point in a specific column is beyond plus or minus 6 standard deviations. Filtering by a standard deviation approach is easier to statistically justify, rather than sorting through each column and subjectively assessing which values shouldn't be included. Also, the z-score threshold of 6 standard deviations was selected using a real-world business method so this value was also not randomly selected. Altogether, I believe this is a usable justification and method for approaching the outliers specific to my dataset and question. The dataframe demensions reduced by a couple hundred rows after removing the outliers using my approach."
   ]
  },
  {
   "cell_type": "code",
   "execution_count": 12,
   "id": "dc79cd2f",
   "metadata": {},
   "outputs": [],
   "source": [
    "# converting basement size and year renovated columns to a binary values\n",
    "\n",
    "df['sqft_basement'].where(df['sqft_basement'] == 0, 1, inplace=True)\n",
    "df['yr_renovated'].where(df['yr_renovated'] == 0, 1, inplace=True)"
   ]
  },
  {
   "cell_type": "markdown",
   "id": "a9f4a997",
   "metadata": {},
   "source": [
    "This step is for converting a couple of variables to binary. To avoid a strong majority of duplicate variable data, I had  earlier dropped the variable \"sqft_above\" as most homes do not have a basement. As a result, having size information of a basement was no longer as important since the size couldn't be readily compared to housing space above ground. Therefore, I converted this variable to binary to indicate if a house has a basement, to keep with data selection coherence. I also converted the \"yr_renovated\" variable to binary. Years in this case are categorical, so instead of creating countless dummy variables to compensate for the multitude of years, converting to a yes/no approach of a renovated home is far more applicable for my dataframe."
   ]
  },
  {
   "cell_type": "code",
   "execution_count": 13,
   "id": "351583b0",
   "metadata": {},
   "outputs": [],
   "source": [
    "# renaming columns to better match their contents\n",
    "\n",
    "df = df.rename({'sqft_living':'sqft_home'}, axis=1)\n",
    "df = df.rename({'sqft_basement':'basement'}, axis=1)\n",
    "df = df.rename({'yr_renovated':'renovated'}, axis=1)"
   ]
  },
  {
   "cell_type": "markdown",
   "id": "783f2cee",
   "metadata": {},
   "source": [
    "This step is for renaming the column titles to better reflect what the variables now represent after cleaning and converting the data. This includes converting \"sqft_living\" to \"sqft_home\" to clarify definition, and the new variable titles \"basement\" and \"renovated\" represent their binary variable conditions."
   ]
  },
  {
   "cell_type": "markdown",
   "id": "00f002b9",
   "metadata": {},
   "source": [
    "### Final Dataframe"
   ]
  },
  {
   "cell_type": "code",
   "execution_count": 14,
   "id": "5c983806",
   "metadata": {},
   "outputs": [
    {
     "data": {
      "text/html": [
       "<div>\n",
       "<style scoped>\n",
       "    .dataframe tbody tr th:only-of-type {\n",
       "        vertical-align: middle;\n",
       "    }\n",
       "\n",
       "    .dataframe tbody tr th {\n",
       "        vertical-align: top;\n",
       "    }\n",
       "\n",
       "    .dataframe thead th {\n",
       "        text-align: right;\n",
       "    }\n",
       "</style>\n",
       "<table border=\"1\" class=\"dataframe\">\n",
       "  <thead>\n",
       "    <tr style=\"text-align: right;\">\n",
       "      <th></th>\n",
       "      <th>price</th>\n",
       "      <th>bedrooms</th>\n",
       "      <th>bathrooms</th>\n",
       "      <th>sqft_home</th>\n",
       "      <th>sqft_lot</th>\n",
       "      <th>floors</th>\n",
       "      <th>waterfront</th>\n",
       "      <th>condition</th>\n",
       "      <th>grade</th>\n",
       "      <th>basement</th>\n",
       "      <th>yr_built</th>\n",
       "      <th>renovated</th>\n",
       "    </tr>\n",
       "  </thead>\n",
       "  <tbody>\n",
       "    <tr>\n",
       "      <th>0</th>\n",
       "      <td>221900.0</td>\n",
       "      <td>3</td>\n",
       "      <td>1.00</td>\n",
       "      <td>1180</td>\n",
       "      <td>5650</td>\n",
       "      <td>1.0</td>\n",
       "      <td>0</td>\n",
       "      <td>3</td>\n",
       "      <td>7</td>\n",
       "      <td>0</td>\n",
       "      <td>1955</td>\n",
       "      <td>0</td>\n",
       "    </tr>\n",
       "    <tr>\n",
       "      <th>1</th>\n",
       "      <td>538000.0</td>\n",
       "      <td>3</td>\n",
       "      <td>2.25</td>\n",
       "      <td>2570</td>\n",
       "      <td>7242</td>\n",
       "      <td>2.0</td>\n",
       "      <td>0</td>\n",
       "      <td>3</td>\n",
       "      <td>7</td>\n",
       "      <td>1</td>\n",
       "      <td>1951</td>\n",
       "      <td>1</td>\n",
       "    </tr>\n",
       "    <tr>\n",
       "      <th>2</th>\n",
       "      <td>180000.0</td>\n",
       "      <td>2</td>\n",
       "      <td>1.00</td>\n",
       "      <td>770</td>\n",
       "      <td>10000</td>\n",
       "      <td>1.0</td>\n",
       "      <td>0</td>\n",
       "      <td>3</td>\n",
       "      <td>6</td>\n",
       "      <td>0</td>\n",
       "      <td>1933</td>\n",
       "      <td>0</td>\n",
       "    </tr>\n",
       "    <tr>\n",
       "      <th>3</th>\n",
       "      <td>604000.0</td>\n",
       "      <td>4</td>\n",
       "      <td>3.00</td>\n",
       "      <td>1960</td>\n",
       "      <td>5000</td>\n",
       "      <td>1.0</td>\n",
       "      <td>0</td>\n",
       "      <td>5</td>\n",
       "      <td>7</td>\n",
       "      <td>1</td>\n",
       "      <td>1965</td>\n",
       "      <td>0</td>\n",
       "    </tr>\n",
       "    <tr>\n",
       "      <th>4</th>\n",
       "      <td>510000.0</td>\n",
       "      <td>3</td>\n",
       "      <td>2.00</td>\n",
       "      <td>1680</td>\n",
       "      <td>8080</td>\n",
       "      <td>1.0</td>\n",
       "      <td>0</td>\n",
       "      <td>3</td>\n",
       "      <td>8</td>\n",
       "      <td>0</td>\n",
       "      <td>1987</td>\n",
       "      <td>0</td>\n",
       "    </tr>\n",
       "    <tr>\n",
       "      <th>...</th>\n",
       "      <td>...</td>\n",
       "      <td>...</td>\n",
       "      <td>...</td>\n",
       "      <td>...</td>\n",
       "      <td>...</td>\n",
       "      <td>...</td>\n",
       "      <td>...</td>\n",
       "      <td>...</td>\n",
       "      <td>...</td>\n",
       "      <td>...</td>\n",
       "      <td>...</td>\n",
       "      <td>...</td>\n",
       "    </tr>\n",
       "    <tr>\n",
       "      <th>21608</th>\n",
       "      <td>360000.0</td>\n",
       "      <td>3</td>\n",
       "      <td>2.50</td>\n",
       "      <td>1530</td>\n",
       "      <td>1131</td>\n",
       "      <td>3.0</td>\n",
       "      <td>0</td>\n",
       "      <td>3</td>\n",
       "      <td>8</td>\n",
       "      <td>0</td>\n",
       "      <td>2009</td>\n",
       "      <td>0</td>\n",
       "    </tr>\n",
       "    <tr>\n",
       "      <th>21609</th>\n",
       "      <td>400000.0</td>\n",
       "      <td>4</td>\n",
       "      <td>2.50</td>\n",
       "      <td>2310</td>\n",
       "      <td>5813</td>\n",
       "      <td>2.0</td>\n",
       "      <td>0</td>\n",
       "      <td>3</td>\n",
       "      <td>8</td>\n",
       "      <td>0</td>\n",
       "      <td>2014</td>\n",
       "      <td>0</td>\n",
       "    </tr>\n",
       "    <tr>\n",
       "      <th>21610</th>\n",
       "      <td>402101.0</td>\n",
       "      <td>2</td>\n",
       "      <td>0.75</td>\n",
       "      <td>1020</td>\n",
       "      <td>1350</td>\n",
       "      <td>2.0</td>\n",
       "      <td>0</td>\n",
       "      <td>3</td>\n",
       "      <td>7</td>\n",
       "      <td>0</td>\n",
       "      <td>2009</td>\n",
       "      <td>0</td>\n",
       "    </tr>\n",
       "    <tr>\n",
       "      <th>21611</th>\n",
       "      <td>400000.0</td>\n",
       "      <td>3</td>\n",
       "      <td>2.50</td>\n",
       "      <td>1600</td>\n",
       "      <td>2388</td>\n",
       "      <td>2.0</td>\n",
       "      <td>0</td>\n",
       "      <td>3</td>\n",
       "      <td>8</td>\n",
       "      <td>0</td>\n",
       "      <td>2004</td>\n",
       "      <td>0</td>\n",
       "    </tr>\n",
       "    <tr>\n",
       "      <th>21612</th>\n",
       "      <td>325000.0</td>\n",
       "      <td>2</td>\n",
       "      <td>0.75</td>\n",
       "      <td>1020</td>\n",
       "      <td>1076</td>\n",
       "      <td>2.0</td>\n",
       "      <td>0</td>\n",
       "      <td>3</td>\n",
       "      <td>7</td>\n",
       "      <td>0</td>\n",
       "      <td>2008</td>\n",
       "      <td>0</td>\n",
       "    </tr>\n",
       "  </tbody>\n",
       "</table>\n",
       "<p>21287 rows × 12 columns</p>\n",
       "</div>"
      ],
      "text/plain": [
       "          price  bedrooms  bathrooms  sqft_home  sqft_lot  floors  waterfront  \\\n",
       "0      221900.0         3       1.00       1180      5650     1.0           0   \n",
       "1      538000.0         3       2.25       2570      7242     2.0           0   \n",
       "2      180000.0         2       1.00        770     10000     1.0           0   \n",
       "3      604000.0         4       3.00       1960      5000     1.0           0   \n",
       "4      510000.0         3       2.00       1680      8080     1.0           0   \n",
       "...         ...       ...        ...        ...       ...     ...         ...   \n",
       "21608  360000.0         3       2.50       1530      1131     3.0           0   \n",
       "21609  400000.0         4       2.50       2310      5813     2.0           0   \n",
       "21610  402101.0         2       0.75       1020      1350     2.0           0   \n",
       "21611  400000.0         3       2.50       1600      2388     2.0           0   \n",
       "21612  325000.0         2       0.75       1020      1076     2.0           0   \n",
       "\n",
       "       condition  grade  basement  yr_built  renovated  \n",
       "0              3      7         0      1955          0  \n",
       "1              3      7         1      1951          1  \n",
       "2              3      6         0      1933          0  \n",
       "3              5      7         1      1965          0  \n",
       "4              3      8         0      1987          0  \n",
       "...          ...    ...       ...       ...        ...  \n",
       "21608          3      8         0      2009          0  \n",
       "21609          3      8         0      2014          0  \n",
       "21610          3      7         0      2009          0  \n",
       "21611          3      8         0      2004          0  \n",
       "21612          3      7         0      2008          0  \n",
       "\n",
       "[21287 rows x 12 columns]"
      ]
     },
     "execution_count": 14,
     "metadata": {},
     "output_type": "execute_result"
    }
   ],
   "source": [
    "# dataframe prepared for modeling\n",
    "\n",
    "df"
   ]
  },
  {
   "cell_type": "markdown",
   "id": "bf0c095f",
   "metadata": {},
   "source": [
    "# Project Milestone 3"
   ]
  },
  {
   "cell_type": "code",
   "execution_count": 15,
   "id": "a21cfb62",
   "metadata": {},
   "outputs": [],
   "source": [
    "# splitting the data set into training and testing sets\n",
    "\n",
    "features = df.drop(['price'], axis=1)\n",
    "target = df['price']\n",
    "\n",
    "features_train, features_test, target_train, target_test = train_test_split(\n",
    "    features, target, test_size=0.2, random_state=42)"
   ]
  },
  {
   "cell_type": "markdown",
   "id": "fb9c911c",
   "metadata": {},
   "source": [
    "This step is for splitting the cleaned dataframe into train and test sets. I divided the data into 80% features (X) and 20% test (Y). I kept the random_state parameter set to 42, which is its default setting. The target variable is assigned as \"price,\" since this is the predictive value. I assigned the rest of the dataframe, excluding the target variable \"price,\" as the features variable."
   ]
  },
  {
   "cell_type": "markdown",
   "id": "d656a1b5",
   "metadata": {},
   "source": [
    "### Ordinary Linear Regression"
   ]
  },
  {
   "cell_type": "code",
   "execution_count": 16,
   "id": "51a7b113",
   "metadata": {},
   "outputs": [
    {
     "data": {
      "text/html": [
       "<style>#sk-container-id-1 {color: black;}#sk-container-id-1 pre{padding: 0;}#sk-container-id-1 div.sk-toggleable {background-color: white;}#sk-container-id-1 label.sk-toggleable__label {cursor: pointer;display: block;width: 100%;margin-bottom: 0;padding: 0.3em;box-sizing: border-box;text-align: center;}#sk-container-id-1 label.sk-toggleable__label-arrow:before {content: \"▸\";float: left;margin-right: 0.25em;color: #696969;}#sk-container-id-1 label.sk-toggleable__label-arrow:hover:before {color: black;}#sk-container-id-1 div.sk-estimator:hover label.sk-toggleable__label-arrow:before {color: black;}#sk-container-id-1 div.sk-toggleable__content {max-height: 0;max-width: 0;overflow: hidden;text-align: left;background-color: #f0f8ff;}#sk-container-id-1 div.sk-toggleable__content pre {margin: 0.2em;color: black;border-radius: 0.25em;background-color: #f0f8ff;}#sk-container-id-1 input.sk-toggleable__control:checked~div.sk-toggleable__content {max-height: 200px;max-width: 100%;overflow: auto;}#sk-container-id-1 input.sk-toggleable__control:checked~label.sk-toggleable__label-arrow:before {content: \"▾\";}#sk-container-id-1 div.sk-estimator input.sk-toggleable__control:checked~label.sk-toggleable__label {background-color: #d4ebff;}#sk-container-id-1 div.sk-label input.sk-toggleable__control:checked~label.sk-toggleable__label {background-color: #d4ebff;}#sk-container-id-1 input.sk-hidden--visually {border: 0;clip: rect(1px 1px 1px 1px);clip: rect(1px, 1px, 1px, 1px);height: 1px;margin: -1px;overflow: hidden;padding: 0;position: absolute;width: 1px;}#sk-container-id-1 div.sk-estimator {font-family: monospace;background-color: #f0f8ff;border: 1px dotted black;border-radius: 0.25em;box-sizing: border-box;margin-bottom: 0.5em;}#sk-container-id-1 div.sk-estimator:hover {background-color: #d4ebff;}#sk-container-id-1 div.sk-parallel-item::after {content: \"\";width: 100%;border-bottom: 1px solid gray;flex-grow: 1;}#sk-container-id-1 div.sk-label:hover label.sk-toggleable__label {background-color: #d4ebff;}#sk-container-id-1 div.sk-serial::before {content: \"\";position: absolute;border-left: 1px solid gray;box-sizing: border-box;top: 0;bottom: 0;left: 50%;z-index: 0;}#sk-container-id-1 div.sk-serial {display: flex;flex-direction: column;align-items: center;background-color: white;padding-right: 0.2em;padding-left: 0.2em;position: relative;}#sk-container-id-1 div.sk-item {position: relative;z-index: 1;}#sk-container-id-1 div.sk-parallel {display: flex;align-items: stretch;justify-content: center;background-color: white;position: relative;}#sk-container-id-1 div.sk-item::before, #sk-container-id-1 div.sk-parallel-item::before {content: \"\";position: absolute;border-left: 1px solid gray;box-sizing: border-box;top: 0;bottom: 0;left: 50%;z-index: -1;}#sk-container-id-1 div.sk-parallel-item {display: flex;flex-direction: column;z-index: 1;position: relative;background-color: white;}#sk-container-id-1 div.sk-parallel-item:first-child::after {align-self: flex-end;width: 50%;}#sk-container-id-1 div.sk-parallel-item:last-child::after {align-self: flex-start;width: 50%;}#sk-container-id-1 div.sk-parallel-item:only-child::after {width: 0;}#sk-container-id-1 div.sk-dashed-wrapped {border: 1px dashed gray;margin: 0 0.4em 0.5em 0.4em;box-sizing: border-box;padding-bottom: 0.4em;background-color: white;}#sk-container-id-1 div.sk-label label {font-family: monospace;font-weight: bold;display: inline-block;line-height: 1.2em;}#sk-container-id-1 div.sk-label-container {text-align: center;}#sk-container-id-1 div.sk-container {/* jupyter's `normalize.less` sets `[hidden] { display: none; }` but bootstrap.min.css set `[hidden] { display: none !important; }` so we also need the `!important` here to be able to override the default hidden behavior on the sphinx rendered scikit-learn.org. See: https://github.com/scikit-learn/scikit-learn/issues/21755 */display: inline-block !important;position: relative;}#sk-container-id-1 div.sk-text-repr-fallback {display: none;}</style><div id=\"sk-container-id-1\" class=\"sk-top-container\"><div class=\"sk-text-repr-fallback\"><pre>LinearRegression()</pre><b>In a Jupyter environment, please rerun this cell to show the HTML representation or trust the notebook. <br />On GitHub, the HTML representation is unable to render, please try loading this page with nbviewer.org.</b></div><div class=\"sk-container\" hidden><div class=\"sk-item\"><div class=\"sk-estimator sk-toggleable\"><input class=\"sk-toggleable__control sk-hidden--visually\" id=\"sk-estimator-id-1\" type=\"checkbox\" checked><label for=\"sk-estimator-id-1\" class=\"sk-toggleable__label sk-toggleable__label-arrow\">LinearRegression</label><div class=\"sk-toggleable__content\"><pre>LinearRegression()</pre></div></div></div></div></div>"
      ],
      "text/plain": [
       "LinearRegression()"
      ]
     },
     "execution_count": 16,
     "metadata": {},
     "output_type": "execute_result"
    }
   ],
   "source": [
    "# fitting data sets to model\n",
    "\n",
    "model1 = LinearRegression()\n",
    "model1.fit(features_train, target_train)"
   ]
  },
  {
   "cell_type": "markdown",
   "id": "99a748b3",
   "metadata": {},
   "source": [
    "In this step is for fitting an ordinary linear regression model on the training dataset, to use as a baseline model for building upon as necessary. The cleaned dataframe is purely numeric, with zero categorical variables. Therefore, I wanted to explore model options that were only regression and not classification."
   ]
  },
  {
   "cell_type": "code",
   "execution_count": 17,
   "id": "f17124f0",
   "metadata": {},
   "outputs": [
    {
     "name": "stdout",
     "output_type": "stream",
     "text": [
      "Accuracy: 62.47%\n",
      "R-square: 0.6309460409237986\n"
     ]
    }
   ],
   "source": [
    "# model accuracy\n",
    "\n",
    "accuracy1 = model1.score(features_test, target_test)\n",
    "print(\"Accuracy: {:.2f}%\".format(accuracy1*100))\n",
    "print(\"R-square:\", model1.score(features_train, target_train))"
   ]
  },
  {
   "cell_type": "markdown",
   "id": "0d9a3db5",
   "metadata": {},
   "source": [
    "This step is for assessing the model fit to the cleaned dataframe. The parameters to asses goodness of fit that I used was a simple accuracy score converted to a percentage, and the R-square coefficient. I chose the R-square value due to the presence of multiple independent variables in the dataframe. Correlation is usually a good statistical test to understand how the variance can affect the strength of the relationship between one independent variable and one dependent variable. R-squared can scale across multiple independent variables, and use them to explain the variance for a dependent variable in a regression model. According to the chosen metrics, the accuracy of the model is 62.47% with an R-square value of 0.631."
   ]
  },
  {
   "cell_type": "markdown",
   "id": "c42a7704",
   "metadata": {},
   "source": [
    "### Standard Scaler Preprocessing With Linear Regression"
   ]
  },
  {
   "cell_type": "code",
   "execution_count": 18,
   "id": "c58524fe",
   "metadata": {},
   "outputs": [],
   "source": [
    "# standardscaler preprocessing\n",
    "std_sca = StandardScaler()\n",
    "\n",
    "# fitting and transforming the training set\n",
    "std_sca_features_train = std_sca.fit_transform(features_train)\n",
    "# only transforming the test set\n",
    "std_sca_features_test = std_sca.transform(features_test)"
   ]
  },
  {
   "cell_type": "markdown",
   "id": "39cc257d",
   "metadata": {},
   "source": [
    "Based on the previous step, linear regression looks to be a useable regression model that I can build upon. The accuracy and R-square values are a little low, so this step is to start exploring preprocessing methods that can be used to transform the split dataframe, in an effort to improve the model fit. Generally, machine learning algorithms can work better when all features are on a relatively similar scale with normal distribution. I applied the standardscaler preprocessing function to the features datasets, but only fit the training dataset. This function transforms the data so that the average value is 0 with an overall standard deviation of 1."
   ]
  },
  {
   "cell_type": "code",
   "execution_count": 19,
   "id": "13db4ea4",
   "metadata": {},
   "outputs": [
    {
     "data": {
      "text/html": [
       "<style>#sk-container-id-2 {color: black;}#sk-container-id-2 pre{padding: 0;}#sk-container-id-2 div.sk-toggleable {background-color: white;}#sk-container-id-2 label.sk-toggleable__label {cursor: pointer;display: block;width: 100%;margin-bottom: 0;padding: 0.3em;box-sizing: border-box;text-align: center;}#sk-container-id-2 label.sk-toggleable__label-arrow:before {content: \"▸\";float: left;margin-right: 0.25em;color: #696969;}#sk-container-id-2 label.sk-toggleable__label-arrow:hover:before {color: black;}#sk-container-id-2 div.sk-estimator:hover label.sk-toggleable__label-arrow:before {color: black;}#sk-container-id-2 div.sk-toggleable__content {max-height: 0;max-width: 0;overflow: hidden;text-align: left;background-color: #f0f8ff;}#sk-container-id-2 div.sk-toggleable__content pre {margin: 0.2em;color: black;border-radius: 0.25em;background-color: #f0f8ff;}#sk-container-id-2 input.sk-toggleable__control:checked~div.sk-toggleable__content {max-height: 200px;max-width: 100%;overflow: auto;}#sk-container-id-2 input.sk-toggleable__control:checked~label.sk-toggleable__label-arrow:before {content: \"▾\";}#sk-container-id-2 div.sk-estimator input.sk-toggleable__control:checked~label.sk-toggleable__label {background-color: #d4ebff;}#sk-container-id-2 div.sk-label input.sk-toggleable__control:checked~label.sk-toggleable__label {background-color: #d4ebff;}#sk-container-id-2 input.sk-hidden--visually {border: 0;clip: rect(1px 1px 1px 1px);clip: rect(1px, 1px, 1px, 1px);height: 1px;margin: -1px;overflow: hidden;padding: 0;position: absolute;width: 1px;}#sk-container-id-2 div.sk-estimator {font-family: monospace;background-color: #f0f8ff;border: 1px dotted black;border-radius: 0.25em;box-sizing: border-box;margin-bottom: 0.5em;}#sk-container-id-2 div.sk-estimator:hover {background-color: #d4ebff;}#sk-container-id-2 div.sk-parallel-item::after {content: \"\";width: 100%;border-bottom: 1px solid gray;flex-grow: 1;}#sk-container-id-2 div.sk-label:hover label.sk-toggleable__label {background-color: #d4ebff;}#sk-container-id-2 div.sk-serial::before {content: \"\";position: absolute;border-left: 1px solid gray;box-sizing: border-box;top: 0;bottom: 0;left: 50%;z-index: 0;}#sk-container-id-2 div.sk-serial {display: flex;flex-direction: column;align-items: center;background-color: white;padding-right: 0.2em;padding-left: 0.2em;position: relative;}#sk-container-id-2 div.sk-item {position: relative;z-index: 1;}#sk-container-id-2 div.sk-parallel {display: flex;align-items: stretch;justify-content: center;background-color: white;position: relative;}#sk-container-id-2 div.sk-item::before, #sk-container-id-2 div.sk-parallel-item::before {content: \"\";position: absolute;border-left: 1px solid gray;box-sizing: border-box;top: 0;bottom: 0;left: 50%;z-index: -1;}#sk-container-id-2 div.sk-parallel-item {display: flex;flex-direction: column;z-index: 1;position: relative;background-color: white;}#sk-container-id-2 div.sk-parallel-item:first-child::after {align-self: flex-end;width: 50%;}#sk-container-id-2 div.sk-parallel-item:last-child::after {align-self: flex-start;width: 50%;}#sk-container-id-2 div.sk-parallel-item:only-child::after {width: 0;}#sk-container-id-2 div.sk-dashed-wrapped {border: 1px dashed gray;margin: 0 0.4em 0.5em 0.4em;box-sizing: border-box;padding-bottom: 0.4em;background-color: white;}#sk-container-id-2 div.sk-label label {font-family: monospace;font-weight: bold;display: inline-block;line-height: 1.2em;}#sk-container-id-2 div.sk-label-container {text-align: center;}#sk-container-id-2 div.sk-container {/* jupyter's `normalize.less` sets `[hidden] { display: none; }` but bootstrap.min.css set `[hidden] { display: none !important; }` so we also need the `!important` here to be able to override the default hidden behavior on the sphinx rendered scikit-learn.org. See: https://github.com/scikit-learn/scikit-learn/issues/21755 */display: inline-block !important;position: relative;}#sk-container-id-2 div.sk-text-repr-fallback {display: none;}</style><div id=\"sk-container-id-2\" class=\"sk-top-container\"><div class=\"sk-text-repr-fallback\"><pre>LinearRegression()</pre><b>In a Jupyter environment, please rerun this cell to show the HTML representation or trust the notebook. <br />On GitHub, the HTML representation is unable to render, please try loading this page with nbviewer.org.</b></div><div class=\"sk-container\" hidden><div class=\"sk-item\"><div class=\"sk-estimator sk-toggleable\"><input class=\"sk-toggleable__control sk-hidden--visually\" id=\"sk-estimator-id-2\" type=\"checkbox\" checked><label for=\"sk-estimator-id-2\" class=\"sk-toggleable__label sk-toggleable__label-arrow\">LinearRegression</label><div class=\"sk-toggleable__content\"><pre>LinearRegression()</pre></div></div></div></div></div>"
      ],
      "text/plain": [
       "LinearRegression()"
      ]
     },
     "execution_count": 19,
     "metadata": {},
     "output_type": "execute_result"
    }
   ],
   "source": [
    "# fitting data sets to model\n",
    "\n",
    "model2 = LinearRegression()\n",
    "model2.fit(std_sca_features_train, target_train)"
   ]
  },
  {
   "cell_type": "markdown",
   "id": "fa75b80b",
   "metadata": {},
   "source": [
    "This step is for fitting the transformed standardscaler dataset to a basic linear regression model."
   ]
  },
  {
   "cell_type": "code",
   "execution_count": 20,
   "id": "0b2f6a09",
   "metadata": {},
   "outputs": [
    {
     "name": "stdout",
     "output_type": "stream",
     "text": [
      "Accuracy: 62.47%\n",
      "R-square: 0.6309460409237986\n"
     ]
    }
   ],
   "source": [
    "# model accuracy\n",
    "\n",
    "accuracy2 = model2.score(std_sca_features_test, target_test)\n",
    "print(\"Accuracy: {:.2f}%\".format(accuracy2*100))\n",
    "print(\"R-square:\", model2.score(std_sca_features_train, target_train))"
   ]
  },
  {
   "cell_type": "markdown",
   "id": "50f378c8",
   "metadata": {},
   "source": [
    "This step is for assessing the model fit to the standardscaler preprocessed dataset. The parameters to asses goodness of fit that I used, were the same as before. Here, the accuracy of the model is 62.47% with an R-square value of 0.631. The model still fits with the same original accuracy, with no measurable affects after preprocessing the dataset with the standardscaler function."
   ]
  },
  {
   "cell_type": "markdown",
   "id": "a865396a",
   "metadata": {},
   "source": [
    "### Polynomial Preprocessing of Term Limit Degrees 2-4 With Linear Regression"
   ]
  },
  {
   "cell_type": "markdown",
   "id": "3fb921f3",
   "metadata": {},
   "source": [
    "The following steps are for exploring the polynomial preprocessing function. Even though using a regression model works best with a numeric dataframe, the resulting equation from fitting a linear regression model may not work the best with a numeric dataframe. Looking back at the graphs of individual independent variables, some variables do have a linear relationship, while other variables seem to form clusters within a scatterplot. There is a strong likelihood that there are significant non-linear relationships between the independent variables and the dependent variable. Therefore, for the next step it makes sense to add additional term limit degrees to simple linear regression, since a stright line of fit doesn't appear to be good enough. In the following steps, I explore preprocessing the dataframe using polynomal terms, set to a limit of 2, 3, or 4 degrees. Simple linear regression used before has a term limit of 1 degree only."
   ]
  },
  {
   "cell_type": "code",
   "execution_count": 21,
   "id": "8dd36fc5",
   "metadata": {},
   "outputs": [
    {
     "name": "stdout",
     "output_type": "stream",
     "text": [
      "Accuracy: 66.81%\n",
      "R-square: 0.67755055407022\n"
     ]
    }
   ],
   "source": [
    "# polynomial preprocessing with degree 2\n",
    "poly = PolynomialFeatures(degree=2, include_bias=False)\n",
    "\n",
    "# fitting and transforming the training set\n",
    "poly_features_train_d2 = poly.fit_transform(features_train)\n",
    "# only transforming the test set\n",
    "poly_features_test_d2 = poly.transform(features_test)\n",
    "\n",
    "# fitting data sets to model\n",
    "model3_d2 = LinearRegression()\n",
    "model3_d2.fit(poly_features_train_d2, target_train)\n",
    "\n",
    "# model accuracy\n",
    "accuracy3_d2 = model3_d2.score(poly_features_test_d2, target_test)\n",
    "print(\"Accuracy: {:.2f}%\".format(accuracy3_d2*100))\n",
    "print(\"R-square:\", model3_d2.score(poly_features_train_d2, target_train))"
   ]
  },
  {
   "cell_type": "markdown",
   "id": "6f7ebef7",
   "metadata": {},
   "source": [
    "Using a polynomial term limit of 2 degrees, the accuracy of the model is 66.81% with an R-square value of 0.678. The polynomial linear regression model fits noticeably more accurate when compared to a simple linear regression model."
   ]
  },
  {
   "cell_type": "code",
   "execution_count": 22,
   "id": "509c2c25",
   "metadata": {},
   "outputs": [
    {
     "name": "stdout",
     "output_type": "stream",
     "text": [
      "Accuracy: 66.06%\n",
      "R-square: 0.6805588329948725\n"
     ]
    }
   ],
   "source": [
    "# polynomial preprocessing with degree 3\n",
    "poly = PolynomialFeatures(degree=3, include_bias=False)\n",
    "\n",
    "# fitting and transforming the training set\n",
    "poly_features_train_d3 = poly.fit_transform(features_train)\n",
    "# only transforming the test set\n",
    "poly_features_test_d3 = poly.transform(features_test)\n",
    "\n",
    "# fitting data sets to model\n",
    "model3_d3 = LinearRegression()\n",
    "model3_d3.fit(poly_features_train_d3, target_train)\n",
    "\n",
    "# model accuracy\n",
    "accuracy3_d3 = model3_d3.score(poly_features_test_d3, target_test)\n",
    "print(\"Accuracy: {:.2f}%\".format(accuracy3_d3*100))\n",
    "print(\"R-square:\", model3_d3.score(poly_features_train_d3, target_train))"
   ]
  },
  {
   "cell_type": "markdown",
   "id": "e9fb474b",
   "metadata": {},
   "source": [
    "Using a polynomial term limit of 3 degrees, the accuracy of the model is 66.06% with an R-square value of 0.681. The polynomial linear regression model still fits noticeably more accurate when compared to a simple linear regression model, but noticeably less accurate than when using a polynomial term limit of 2 degrees. The R-square value has increased further."
   ]
  },
  {
   "cell_type": "code",
   "execution_count": 23,
   "id": "60d81634",
   "metadata": {},
   "outputs": [
    {
     "name": "stdout",
     "output_type": "stream",
     "text": [
      "Accuracy: 65.36%\n",
      "R-square: 0.6957106338367769\n"
     ]
    }
   ],
   "source": [
    "# polynomial preprocessing with degree 4\n",
    "poly = PolynomialFeatures(degree=4, include_bias=False)\n",
    "\n",
    "# fitting and transforming the training set\n",
    "poly_features_train_d4 = poly.fit_transform(features_train)\n",
    "# only transforming the test set\n",
    "poly_features_test_d4 = poly.transform(features_test)\n",
    "\n",
    "# fitting data sets to model\n",
    "model3_d4 = LinearRegression()\n",
    "model3_d4.fit(poly_features_train_d4, target_train)\n",
    "\n",
    "# model accuracy\n",
    "accuracy3_d4 = model3_d4.score(poly_features_test_d4, target_test)\n",
    "print(\"Accuracy: {:.2f}%\".format(accuracy3_d4*100))\n",
    "print(\"R-square:\", model3_d4.score(poly_features_train_d4, target_train))"
   ]
  },
  {
   "cell_type": "markdown",
   "id": "2f64032a",
   "metadata": {},
   "source": [
    "Using a polynomial term limit of 4 degrees, the accuracy of the model is 65.36% with an R-square value of 0.696. The polynomial linear regression model still fits noticeably more accurate when compared to a simple linear regression model, but noticeably less accurate than when using a polynomial term limit of 2 or 3 degrees. The R-square value has increased further still. There is now an observable trend between accuracy and R-square values, so I will stop term limit exploration at 4 degrees."
   ]
  },
  {
   "cell_type": "markdown",
   "id": "de1728d8",
   "metadata": {},
   "source": [
    "### Model Evaluation Summary"
   ]
  },
  {
   "cell_type": "code",
   "execution_count": 24,
   "id": "b3ad2419",
   "metadata": {},
   "outputs": [
    {
     "name": "stdout",
     "output_type": "stream",
     "text": [
      "ORDINARY LINEAR REGRESSION\n",
      "Accuracy: 62.47%\n",
      "R-square: 0.6309460409237986\n",
      "\n",
      "\n",
      "LINEAR REGRESSION + STANDARDSCALER\n",
      "Accuracy: 62.47%\n",
      "R-square: 0.6309460409237986\n",
      "\n",
      "\n",
      "LINEAR REGRESSION + POLYNOMIAL^2\n",
      "Accuracy: 66.81%\n",
      "R-square: 0.67755055407022\n",
      "\n",
      "\n",
      "LINEAR REGRESSION + POLYNOMIAL^3\n",
      "Accuracy: 66.06%\n",
      "R-square: 0.6805588329948725\n",
      "\n",
      "\n",
      "LINEAR REGRESSION + POLYNOMIAL^4\n",
      "Accuracy: 65.36%\n",
      "R-square: 0.6957106338367769\n"
     ]
    }
   ],
   "source": [
    "# comparing models\n",
    "\n",
    "print(\"ORDINARY LINEAR REGRESSION\")\n",
    "print(\"Accuracy: {:.2f}%\".format(accuracy1*100))\n",
    "print(\"R-square:\", model1.score(features_train, target_train))\n",
    "print(\"\\n\")\n",
    "print(\"LINEAR REGRESSION + STANDARDSCALER\")\n",
    "print(\"Accuracy: {:.2f}%\".format(accuracy2*100))\n",
    "print(\"R-square:\", model2.score(std_sca_features_train, target_train))\n",
    "print(\"\\n\")\n",
    "print(\"LINEAR REGRESSION + POLYNOMIAL^2\")\n",
    "print(\"Accuracy: {:.2f}%\".format(accuracy3_d2*100))\n",
    "print(\"R-square:\", model3_d2.score(poly_features_train_d2, target_train))\n",
    "print(\"\\n\")\n",
    "print(\"LINEAR REGRESSION + POLYNOMIAL^3\")\n",
    "print(\"Accuracy: {:.2f}%\".format(accuracy3_d3*100))\n",
    "print(\"R-square:\", model3_d3.score(poly_features_train_d3, target_train))\n",
    "print(\"\\n\")\n",
    "print(\"LINEAR REGRESSION + POLYNOMIAL^4\")\n",
    "print(\"Accuracy: {:.2f}%\".format(accuracy3_d4*100))\n",
    "print(\"R-square:\", model3_d4.score(poly_features_train_d4, target_train))"
   ]
  },
  {
   "cell_type": "markdown",
   "id": "baf19b9d",
   "metadata": {},
   "source": [
    "This step is for placing all metrics side-by-side for each model, to allow for further trend evaluation."
   ]
  },
  {
   "cell_type": "markdown",
   "id": "d75355ef",
   "metadata": {},
   "source": [
    "### Overview"
   ]
  },
  {
   "cell_type": "markdown",
   "id": "c6caa0d7",
   "metadata": {},
   "source": [
    "After going through the process of choosing a model selection path and evaluting metrics along the way, I have gained a few insights after completion. Right away, I noticed that the resulting model may not be the most accurate for predicting housing prices, if solely based upon the cleaned dataframe provided. I believe that the model itself is a useful tool; however, it's the data selection to train the model that has the potential to reduce its accuracy. There are far more factors that determine a home's sale price than what I have fed into the model. For example, location is the single greatest factor for pricing determination. The original latitude and longitude values are not feasible for my purposes, since they're not scalable nor linear variables. Again, this demonstrates shortfalls of the cleaned dataframe the model is based off of, and not necessarily shortfalls of the model itself. For the model, I initially kept with linear regression as a baseline to understand the accuracy potential of any regression model, as a classification model is not appropriate for my selected data set. Using linear regression, my accuracy was roughly 62% and had an R-squared value of 0.631. These are lower values than I was expecting, but a good representation for a place to start. I figured the data may be too variable despite a 6 standard deviation filter I applied earlier. I preprocess the data with a standardscaler function to ensure normal distribution, and a similar data scale across all indepdendent variables. This did not improve the accuracy nor the R-squared value of the subsequent model. Realizing that not all of my independent variables are linear, I chose to preprocess the data using polynomial terms. This allows the regression model to bend and try to fit multiple groups of data points. Since simple linear regression is of term limit degree 1, I tested linear regression with polynomial term limit degrees 2 through 4. Immediately with term limit degree 2, the model jumped in metrics resulting in an accuracy of roughly 67% and an R-squared value of 0.678. With term limit degrees 3 and 4, I noticed an interesting pattern. The model accuracy kept dropping and the R-squared value kept increasing. This suggests that with increasing polynomial term limit degrees, the model appears to be over-fitting the data, which is not a good thing. At these limits, the polynomial regression coefficients begin representing the data noise rather than the actual variable relationships. Hence, the model appeared to improve according to the increasing R-squared values, but actually degraded according to the decreasing accuracy score. Therefore, my model selection for my cleaned dataset is preprocessed polynomial linear regression with a term limit degree of 2."
   ]
  }
 ],
 "metadata": {
  "kernelspec": {
   "display_name": "Python 3 (ipykernel)",
   "language": "python",
   "name": "python3"
  },
  "language_info": {
   "codemirror_mode": {
    "name": "ipython",
    "version": 3
   },
   "file_extension": ".py",
   "mimetype": "text/x-python",
   "name": "python",
   "nbconvert_exporter": "python",
   "pygments_lexer": "ipython3",
   "version": "3.11.4"
  }
 },
 "nbformat": 4,
 "nbformat_minor": 5
}
