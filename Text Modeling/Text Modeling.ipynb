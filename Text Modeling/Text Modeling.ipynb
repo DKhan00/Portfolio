{
 "cells": [
  {
   "cell_type": "markdown",
   "id": "b72ec235",
   "metadata": {},
   "source": [
    "# Danish Khan\n",
    "### Week 5 Assignment\n",
    "### DSC 550 Data Mining\n",
    "### 12/7/2023"
   ]
  },
  {
   "cell_type": "code",
   "execution_count": 1,
   "id": "88272353",
   "metadata": {},
   "outputs": [],
   "source": [
    "import pandas as pd\n",
    "import matplotlib.pyplot as mpl\n",
    "import nltk\n",
    "from nltk.corpus import stopwords\n",
    "from nltk.tokenize import word_tokenize\n",
    "from nltk.tokenize import sent_tokenize\n",
    "from nltk.stem.porter import PorterStemmer\n",
    "import string\n",
    "import numpy as np\n",
    "import sklearn\n",
    "from sklearn.feature_extraction.text import CountVectorizer\n",
    "from sklearn.feature_extraction.text import TfidfVectorizer\n",
    "from sklearn.model_selection import train_test_split\n",
    "from sklearn.linear_model import LogisticRegression\n",
    "from sklearn.metrics import accuracy_score\n",
    "from sklearn.metrics import confusion_matrix\n",
    "from sklearn.metrics import ConfusionMatrixDisplay\n",
    "from sklearn.metrics import precision_score\n",
    "from sklearn.metrics import recall_score\n",
    "from sklearn.metrics import f1_score\n",
    "from sklearn.metrics import roc_curve\n",
    "from sklearn.ensemble import RandomForestClassifier"
   ]
  },
  {
   "cell_type": "code",
   "execution_count": 2,
   "id": "9e05ae6f",
   "metadata": {},
   "outputs": [
    {
     "data": {
      "text/html": [
       "<div>\n",
       "<style scoped>\n",
       "    .dataframe tbody tr th:only-of-type {\n",
       "        vertical-align: middle;\n",
       "    }\n",
       "\n",
       "    .dataframe tbody tr th {\n",
       "        vertical-align: top;\n",
       "    }\n",
       "\n",
       "    .dataframe thead th {\n",
       "        text-align: right;\n",
       "    }\n",
       "</style>\n",
       "<table border=\"1\" class=\"dataframe\">\n",
       "  <thead>\n",
       "    <tr style=\"text-align: right;\">\n",
       "      <th></th>\n",
       "      <th>id</th>\n",
       "      <th>sentiment</th>\n",
       "      <th>review</th>\n",
       "    </tr>\n",
       "  </thead>\n",
       "  <tbody>\n",
       "    <tr>\n",
       "      <th>0</th>\n",
       "      <td>5814_8</td>\n",
       "      <td>1</td>\n",
       "      <td>With all this stuff going down at the moment w...</td>\n",
       "    </tr>\n",
       "    <tr>\n",
       "      <th>1</th>\n",
       "      <td>2381_9</td>\n",
       "      <td>1</td>\n",
       "      <td>\\The Classic War of the Worlds\\\" by Timothy Hi...</td>\n",
       "    </tr>\n",
       "    <tr>\n",
       "      <th>2</th>\n",
       "      <td>7759_3</td>\n",
       "      <td>0</td>\n",
       "      <td>The film starts with a manager (Nicholas Bell)...</td>\n",
       "    </tr>\n",
       "    <tr>\n",
       "      <th>3</th>\n",
       "      <td>3630_4</td>\n",
       "      <td>0</td>\n",
       "      <td>It must be assumed that those who praised this...</td>\n",
       "    </tr>\n",
       "    <tr>\n",
       "      <th>4</th>\n",
       "      <td>9495_8</td>\n",
       "      <td>1</td>\n",
       "      <td>Superbly trashy and wondrously unpretentious 8...</td>\n",
       "    </tr>\n",
       "  </tbody>\n",
       "</table>\n",
       "</div>"
      ],
      "text/plain": [
       "       id  sentiment                                             review\n",
       "0  5814_8          1  With all this stuff going down at the moment w...\n",
       "1  2381_9          1  \\The Classic War of the Worlds\\\" by Timothy Hi...\n",
       "2  7759_3          0  The film starts with a manager (Nicholas Bell)...\n",
       "3  3630_4          0  It must be assumed that those who praised this...\n",
       "4  9495_8          1  Superbly trashy and wondrously unpretentious 8..."
      ]
     },
     "execution_count": 2,
     "metadata": {},
     "output_type": "execute_result"
    }
   ],
   "source": [
    "df = pd.read_table('labeledTrainData.tsv')\n",
    "\n",
    "df.head(5)"
   ]
  },
  {
   "cell_type": "markdown",
   "id": "52ff6059",
   "metadata": {},
   "source": [
    "### Get stemmed data using the same process you did in Week 3."
   ]
  },
  {
   "cell_type": "code",
   "execution_count": 3,
   "id": "8b2f7d81",
   "metadata": {},
   "outputs": [
    {
     "data": {
      "text/html": [
       "<div>\n",
       "<style scoped>\n",
       "    .dataframe tbody tr th:only-of-type {\n",
       "        vertical-align: middle;\n",
       "    }\n",
       "\n",
       "    .dataframe tbody tr th {\n",
       "        vertical-align: top;\n",
       "    }\n",
       "\n",
       "    .dataframe thead th {\n",
       "        text-align: right;\n",
       "    }\n",
       "</style>\n",
       "<table border=\"1\" class=\"dataframe\">\n",
       "  <thead>\n",
       "    <tr style=\"text-align: right;\">\n",
       "      <th></th>\n",
       "      <th>id</th>\n",
       "      <th>sentiment</th>\n",
       "      <th>stemmed_review</th>\n",
       "    </tr>\n",
       "  </thead>\n",
       "  <tbody>\n",
       "    <tr>\n",
       "      <th>0</th>\n",
       "      <td>5814_8</td>\n",
       "      <td>1</td>\n",
       "      <td>stuff go moment mj ive start listen music watc...</td>\n",
       "    </tr>\n",
       "    <tr>\n",
       "      <th>1</th>\n",
       "      <td>2381_9</td>\n",
       "      <td>1</td>\n",
       "      <td>classic war world timothi hine entertain film ...</td>\n",
       "    </tr>\n",
       "    <tr>\n",
       "      <th>2</th>\n",
       "      <td>7759_3</td>\n",
       "      <td>0</td>\n",
       "      <td>film start manag nichola bell give welcom inve...</td>\n",
       "    </tr>\n",
       "    <tr>\n",
       "      <th>3</th>\n",
       "      <td>3630_4</td>\n",
       "      <td>0</td>\n",
       "      <td>must assum prais film greatest film opera ever...</td>\n",
       "    </tr>\n",
       "    <tr>\n",
       "      <th>4</th>\n",
       "      <td>9495_8</td>\n",
       "      <td>1</td>\n",
       "      <td>superbl trashi wondrous unpretenti 80 exploit ...</td>\n",
       "    </tr>\n",
       "  </tbody>\n",
       "</table>\n",
       "</div>"
      ],
      "text/plain": [
       "       id  sentiment                                     stemmed_review\n",
       "0  5814_8          1  stuff go moment mj ive start listen music watc...\n",
       "1  2381_9          1  classic war world timothi hine entertain film ...\n",
       "2  7759_3          0  film start manag nichola bell give welcom inve...\n",
       "3  3630_4          0  must assum prais film greatest film opera ever...\n",
       "4  9495_8          1  superbl trashi wondrous unpretenti 80 exploit ..."
      ]
     },
     "execution_count": 3,
     "metadata": {},
     "output_type": "execute_result"
    }
   ],
   "source": [
    "# process the same text data using the same method and functions as in Week 3\n",
    "\n",
    "# function to convert letters to lowercase\n",
    "def text_lower(text):\n",
    "    return text.lower()\n",
    "\n",
    "# function to remove punctuation and special characters using built-in string functions\n",
    "def no_punctuation(text):\n",
    "    text = [word for word in text if word not in string.punctuation]\n",
    "    text = ''.join(text)\n",
    "    return text\n",
    "\n",
    "# function to remove stop words\n",
    "def no_stop_words(text):\n",
    "    return ' '.join([word for word in word_tokenize(text) if not word in stop_words])\n",
    "\n",
    "# function to use NLTK to remove word affixes\n",
    "def no_affix(text):\n",
    "    porter = PorterStemmer()\n",
    "    return ' '.join([porter.stem(word) for word in word_tokenize(text)])\n",
    "\n",
    "stop_words = stopwords.words('english')\n",
    "\n",
    "df['lower'] = df['review'].apply(text_lower)\n",
    "df['no_punctuation'] = df['lower'].apply(no_punctuation)\n",
    "df['no_stop_words'] = df['no_punctuation'].apply(no_stop_words)\n",
    "df['stemmed_review'] = df['no_stop_words'].apply(no_affix)\n",
    "df = df.drop(columns=['review', 'lower', 'no_punctuation', 'no_stop_words'])\n",
    "\n",
    "df.head(5)"
   ]
  },
  {
   "cell_type": "markdown",
   "id": "698ce46b",
   "metadata": {},
   "source": [
    "### Split this into a training and test set."
   ]
  },
  {
   "cell_type": "code",
   "execution_count": 4,
   "id": "584c55cc",
   "metadata": {},
   "outputs": [],
   "source": [
    "features = df['stemmed_review']\n",
    "target = df['sentiment']\n",
    "\n",
    "features_train, features_test, target_train, target_test = train_test_split(\n",
    "    features, target, test_size=0.2, random_state=1)"
   ]
  },
  {
   "cell_type": "markdown",
   "id": "fbf491e9",
   "metadata": {},
   "source": [
    "### Fit and apply the tf-idf vectorization to the training set."
   ]
  },
  {
   "cell_type": "code",
   "execution_count": 5,
   "id": "d4ac9fb1",
   "metadata": {},
   "outputs": [],
   "source": [
    "tfvec = TfidfVectorizer()\n",
    "tfvec.fit(features_train)\n",
    "features_train_tfvec = tfvec.transform(features_train)"
   ]
  },
  {
   "cell_type": "markdown",
   "id": "24c1a6fc",
   "metadata": {},
   "source": [
    "### Apply but DO NOT FIT the tf-idf vectorization to the test set (Why?)."
   ]
  },
  {
   "cell_type": "code",
   "execution_count": 6,
   "id": "6279e78f",
   "metadata": {},
   "outputs": [],
   "source": [
    "features_test_tfvec = tfvec.transform(features_test)"
   ]
  },
  {
   "cell_type": "markdown",
   "id": "f84dfffe",
   "metadata": {},
   "source": [
    "Fitting the tf-idf vectorization of the training set allows it to learn to learn the words and their consistent distribution. Fitting the tf-idf vectorization to the test set would affect the words and distribution learned from the training set, altering the model's accurate performance when evaluating the test set. This why tf-idf vectorization has not been applied on the test set."
   ]
  },
  {
   "cell_type": "markdown",
   "id": "c8299b40",
   "metadata": {},
   "source": [
    "### Train a logistic regression using the training data."
   ]
  },
  {
   "cell_type": "code",
   "execution_count": 7,
   "id": "0ba818f0",
   "metadata": {},
   "outputs": [
    {
     "data": {
      "text/html": [
       "<style>#sk-container-id-1 {color: black;}#sk-container-id-1 pre{padding: 0;}#sk-container-id-1 div.sk-toggleable {background-color: white;}#sk-container-id-1 label.sk-toggleable__label {cursor: pointer;display: block;width: 100%;margin-bottom: 0;padding: 0.3em;box-sizing: border-box;text-align: center;}#sk-container-id-1 label.sk-toggleable__label-arrow:before {content: \"▸\";float: left;margin-right: 0.25em;color: #696969;}#sk-container-id-1 label.sk-toggleable__label-arrow:hover:before {color: black;}#sk-container-id-1 div.sk-estimator:hover label.sk-toggleable__label-arrow:before {color: black;}#sk-container-id-1 div.sk-toggleable__content {max-height: 0;max-width: 0;overflow: hidden;text-align: left;background-color: #f0f8ff;}#sk-container-id-1 div.sk-toggleable__content pre {margin: 0.2em;color: black;border-radius: 0.25em;background-color: #f0f8ff;}#sk-container-id-1 input.sk-toggleable__control:checked~div.sk-toggleable__content {max-height: 200px;max-width: 100%;overflow: auto;}#sk-container-id-1 input.sk-toggleable__control:checked~label.sk-toggleable__label-arrow:before {content: \"▾\";}#sk-container-id-1 div.sk-estimator input.sk-toggleable__control:checked~label.sk-toggleable__label {background-color: #d4ebff;}#sk-container-id-1 div.sk-label input.sk-toggleable__control:checked~label.sk-toggleable__label {background-color: #d4ebff;}#sk-container-id-1 input.sk-hidden--visually {border: 0;clip: rect(1px 1px 1px 1px);clip: rect(1px, 1px, 1px, 1px);height: 1px;margin: -1px;overflow: hidden;padding: 0;position: absolute;width: 1px;}#sk-container-id-1 div.sk-estimator {font-family: monospace;background-color: #f0f8ff;border: 1px dotted black;border-radius: 0.25em;box-sizing: border-box;margin-bottom: 0.5em;}#sk-container-id-1 div.sk-estimator:hover {background-color: #d4ebff;}#sk-container-id-1 div.sk-parallel-item::after {content: \"\";width: 100%;border-bottom: 1px solid gray;flex-grow: 1;}#sk-container-id-1 div.sk-label:hover label.sk-toggleable__label {background-color: #d4ebff;}#sk-container-id-1 div.sk-serial::before {content: \"\";position: absolute;border-left: 1px solid gray;box-sizing: border-box;top: 0;bottom: 0;left: 50%;z-index: 0;}#sk-container-id-1 div.sk-serial {display: flex;flex-direction: column;align-items: center;background-color: white;padding-right: 0.2em;padding-left: 0.2em;position: relative;}#sk-container-id-1 div.sk-item {position: relative;z-index: 1;}#sk-container-id-1 div.sk-parallel {display: flex;align-items: stretch;justify-content: center;background-color: white;position: relative;}#sk-container-id-1 div.sk-item::before, #sk-container-id-1 div.sk-parallel-item::before {content: \"\";position: absolute;border-left: 1px solid gray;box-sizing: border-box;top: 0;bottom: 0;left: 50%;z-index: -1;}#sk-container-id-1 div.sk-parallel-item {display: flex;flex-direction: column;z-index: 1;position: relative;background-color: white;}#sk-container-id-1 div.sk-parallel-item:first-child::after {align-self: flex-end;width: 50%;}#sk-container-id-1 div.sk-parallel-item:last-child::after {align-self: flex-start;width: 50%;}#sk-container-id-1 div.sk-parallel-item:only-child::after {width: 0;}#sk-container-id-1 div.sk-dashed-wrapped {border: 1px dashed gray;margin: 0 0.4em 0.5em 0.4em;box-sizing: border-box;padding-bottom: 0.4em;background-color: white;}#sk-container-id-1 div.sk-label label {font-family: monospace;font-weight: bold;display: inline-block;line-height: 1.2em;}#sk-container-id-1 div.sk-label-container {text-align: center;}#sk-container-id-1 div.sk-container {/* jupyter's `normalize.less` sets `[hidden] { display: none; }` but bootstrap.min.css set `[hidden] { display: none !important; }` so we also need the `!important` here to be able to override the default hidden behavior on the sphinx rendered scikit-learn.org. See: https://github.com/scikit-learn/scikit-learn/issues/21755 */display: inline-block !important;position: relative;}#sk-container-id-1 div.sk-text-repr-fallback {display: none;}</style><div id=\"sk-container-id-1\" class=\"sk-top-container\"><div class=\"sk-text-repr-fallback\"><pre>LogisticRegression()</pre><b>In a Jupyter environment, please rerun this cell to show the HTML representation or trust the notebook. <br />On GitHub, the HTML representation is unable to render, please try loading this page with nbviewer.org.</b></div><div class=\"sk-container\" hidden><div class=\"sk-item\"><div class=\"sk-estimator sk-toggleable\"><input class=\"sk-toggleable__control sk-hidden--visually\" id=\"sk-estimator-id-1\" type=\"checkbox\" checked><label for=\"sk-estimator-id-1\" class=\"sk-toggleable__label sk-toggleable__label-arrow\">LogisticRegression</label><div class=\"sk-toggleable__content\"><pre>LogisticRegression()</pre></div></div></div></div></div>"
      ],
      "text/plain": [
       "LogisticRegression()"
      ]
     },
     "execution_count": 7,
     "metadata": {},
     "output_type": "execute_result"
    }
   ],
   "source": [
    "model1 = LogisticRegression()\n",
    "model1.fit(features_train_tfvec, target_train)"
   ]
  },
  {
   "cell_type": "markdown",
   "id": "f6ff7d82",
   "metadata": {},
   "source": [
    "### Find the model accuracy on test set."
   ]
  },
  {
   "cell_type": "code",
   "execution_count": 8,
   "id": "54d7ffea",
   "metadata": {},
   "outputs": [
    {
     "name": "stdout",
     "output_type": "stream",
     "text": [
      "Accuracy: 88.66%\n"
     ]
    }
   ],
   "source": [
    "accuracy1 = model1.score(features_test_tfvec, target_test)\n",
    "print(\"Accuracy: {:.2f}%\".format(accuracy1*100))"
   ]
  },
  {
   "cell_type": "markdown",
   "id": "d4e25aa3",
   "metadata": {},
   "source": [
    "### Create a confusion matrix for the test set predictions."
   ]
  },
  {
   "cell_type": "code",
   "execution_count": 9,
   "id": "626e7880",
   "metadata": {},
   "outputs": [
    {
     "data": {
      "text/plain": [
       "<sklearn.metrics._plot.confusion_matrix.ConfusionMatrixDisplay at 0x146f2b010>"
      ]
     },
     "execution_count": 9,
     "metadata": {},
     "output_type": "execute_result"
    },
    {
     "data": {
      "image/png": "[encoded data removed]",
      "text/plain": [
       "<Figure size 640x480 with 2 Axes>"
      ]
     },
     "metadata": {},
     "output_type": "display_data"
    }
   ],
   "source": [
    "# predict the test data\n",
    "target_predict1 = model1.predict(features_test_tfvec)\n",
    "\n",
    "# create confusion matrix\n",
    "cm1 = confusion_matrix(target_test, target_predict1)\n",
    "cm1_display = ConfusionMatrixDisplay(confusion_matrix = cm1, display_labels = [False, True])\n",
    "cm1_display.plot()"
   ]
  },
  {
   "cell_type": "markdown",
   "id": "c22bdf1c",
   "metadata": {},
   "source": [
    "### Get the precision, recall, and F1-score for the test set predictions."
   ]
  },
  {
   "cell_type": "code",
   "execution_count": 10,
   "id": "0744d58a",
   "metadata": {},
   "outputs": [
    {
     "name": "stdout",
     "output_type": "stream",
     "text": [
      "Precision Score: 87.72%\n",
      "Recall Score: 89.87%\n",
      "F1 Score: 88.78%\n"
     ]
    }
   ],
   "source": [
    "# get precision score\n",
    "precision_score1 = precision_score(target_test, target_predict1)\n",
    "print(\"Precision Score: {:.2f}%\".format(precision_score1*100))\n",
    "\n",
    "# get recall score\n",
    "recall_score1 = recall_score(target_test, target_predict1)\n",
    "print(\"Recall Score: {:.2f}%\".format(recall_score1*100))\n",
    "\n",
    "# get F1 score\n",
    "f1_score1 = f1_score(target_test, target_predict1)\n",
    "print(\"F1 Score: {:.2f}%\".format(f1_score1*100))"
   ]
  },
  {
   "cell_type": "markdown",
   "id": "fec68dc8",
   "metadata": {},
   "source": [
    "### Create a ROC curve for the test set."
   ]
  },
  {
   "cell_type": "code",
   "execution_count": 11,
   "id": "353a57bf",
   "metadata": {},
   "outputs": [
    {
     "data": {
      "image/png": "[encoded data removed]",
      "text/plain": [
       "<Figure size 640x480 with 1 Axes>"
      ]
     },
     "metadata": {},
     "output_type": "display_data"
    }
   ],
   "source": [
    "target_predict_probability1 = model1.predict_proba(features_test_tfvec)[:,1]\n",
    "fpr1, tpr1, threshold1 = roc_curve(target_test, target_predict_probability1)\n",
    "\n",
    "mpl.plot(fpr1,tpr1)\n",
    "mpl.title(\"Model1 ROC Curve\")\n",
    "mpl.ylabel(\"True Positive Rate\")\n",
    "mpl.xlabel(\"False Positive Rate\")\n",
    "mpl.show()"
   ]
  },
  {
   "cell_type": "markdown",
   "id": "3803cbd1",
   "metadata": {},
   "source": [
    "### Pick another classification model you learned about this week and repeat the last 5 steps."
   ]
  },
  {
   "cell_type": "code",
   "execution_count": 12,
   "id": "7248c72c",
   "metadata": {},
   "outputs": [
    {
     "data": {
      "text/html": [
       "<style>#sk-container-id-2 {color: black;}#sk-container-id-2 pre{padding: 0;}#sk-container-id-2 div.sk-toggleable {background-color: white;}#sk-container-id-2 label.sk-toggleable__label {cursor: pointer;display: block;width: 100%;margin-bottom: 0;padding: 0.3em;box-sizing: border-box;text-align: center;}#sk-container-id-2 label.sk-toggleable__label-arrow:before {content: \"▸\";float: left;margin-right: 0.25em;color: #696969;}#sk-container-id-2 label.sk-toggleable__label-arrow:hover:before {color: black;}#sk-container-id-2 div.sk-estimator:hover label.sk-toggleable__label-arrow:before {color: black;}#sk-container-id-2 div.sk-toggleable__content {max-height: 0;max-width: 0;overflow: hidden;text-align: left;background-color: #f0f8ff;}#sk-container-id-2 div.sk-toggleable__content pre {margin: 0.2em;color: black;border-radius: 0.25em;background-color: #f0f8ff;}#sk-container-id-2 input.sk-toggleable__control:checked~div.sk-toggleable__content {max-height: 200px;max-width: 100%;overflow: auto;}#sk-container-id-2 input.sk-toggleable__control:checked~label.sk-toggleable__label-arrow:before {content: \"▾\";}#sk-container-id-2 div.sk-estimator input.sk-toggleable__control:checked~label.sk-toggleable__label {background-color: #d4ebff;}#sk-container-id-2 div.sk-label input.sk-toggleable__control:checked~label.sk-toggleable__label {background-color: #d4ebff;}#sk-container-id-2 input.sk-hidden--visually {border: 0;clip: rect(1px 1px 1px 1px);clip: rect(1px, 1px, 1px, 1px);height: 1px;margin: -1px;overflow: hidden;padding: 0;position: absolute;width: 1px;}#sk-container-id-2 div.sk-estimator {font-family: monospace;background-color: #f0f8ff;border: 1px dotted black;border-radius: 0.25em;box-sizing: border-box;margin-bottom: 0.5em;}#sk-container-id-2 div.sk-estimator:hover {background-color: #d4ebff;}#sk-container-id-2 div.sk-parallel-item::after {content: \"\";width: 100%;border-bottom: 1px solid gray;flex-grow: 1;}#sk-container-id-2 div.sk-label:hover label.sk-toggleable__label {background-color: #d4ebff;}#sk-container-id-2 div.sk-serial::before {content: \"\";position: absolute;border-left: 1px solid gray;box-sizing: border-box;top: 0;bottom: 0;left: 50%;z-index: 0;}#sk-container-id-2 div.sk-serial {display: flex;flex-direction: column;align-items: center;background-color: white;padding-right: 0.2em;padding-left: 0.2em;position: relative;}#sk-container-id-2 div.sk-item {position: relative;z-index: 1;}#sk-container-id-2 div.sk-parallel {display: flex;align-items: stretch;justify-content: center;background-color: white;position: relative;}#sk-container-id-2 div.sk-item::before, #sk-container-id-2 div.sk-parallel-item::before {content: \"\";position: absolute;border-left: 1px solid gray;box-sizing: border-box;top: 0;bottom: 0;left: 50%;z-index: -1;}#sk-container-id-2 div.sk-parallel-item {display: flex;flex-direction: column;z-index: 1;position: relative;background-color: white;}#sk-container-id-2 div.sk-parallel-item:first-child::after {align-self: flex-end;width: 50%;}#sk-container-id-2 div.sk-parallel-item:last-child::after {align-self: flex-start;width: 50%;}#sk-container-id-2 div.sk-parallel-item:only-child::after {width: 0;}#sk-container-id-2 div.sk-dashed-wrapped {border: 1px dashed gray;margin: 0 0.4em 0.5em 0.4em;box-sizing: border-box;padding-bottom: 0.4em;background-color: white;}#sk-container-id-2 div.sk-label label {font-family: monospace;font-weight: bold;display: inline-block;line-height: 1.2em;}#sk-container-id-2 div.sk-label-container {text-align: center;}#sk-container-id-2 div.sk-container {/* jupyter's `normalize.less` sets `[hidden] { display: none; }` but bootstrap.min.css set `[hidden] { display: none !important; }` so we also need the `!important` here to be able to override the default hidden behavior on the sphinx rendered scikit-learn.org. See: https://github.com/scikit-learn/scikit-learn/issues/21755 */display: inline-block !important;position: relative;}#sk-container-id-2 div.sk-text-repr-fallback {display: none;}</style><div id=\"sk-container-id-2\" class=\"sk-top-container\"><div class=\"sk-text-repr-fallback\"><pre>RandomForestClassifier()</pre><b>In a Jupyter environment, please rerun this cell to show the HTML representation or trust the notebook. <br />On GitHub, the HTML representation is unable to render, please try loading this page with nbviewer.org.</b></div><div class=\"sk-container\" hidden><div class=\"sk-item\"><div class=\"sk-estimator sk-toggleable\"><input class=\"sk-toggleable__control sk-hidden--visually\" id=\"sk-estimator-id-2\" type=\"checkbox\" checked><label for=\"sk-estimator-id-2\" class=\"sk-toggleable__label sk-toggleable__label-arrow\">RandomForestClassifier</label><div class=\"sk-toggleable__content\"><pre>RandomForestClassifier()</pre></div></div></div></div></div>"
      ],
      "text/plain": [
       "RandomForestClassifier()"
      ]
     },
     "execution_count": 12,
     "metadata": {},
     "output_type": "execute_result"
    }
   ],
   "source": [
    "# train a random forest classifier using the training data\n",
    "\n",
    "model2 = RandomForestClassifier()\n",
    "model2.fit(features_train_tfvec, target_train)"
   ]
  },
  {
   "cell_type": "code",
   "execution_count": 13,
   "id": "4731bb8d",
   "metadata": {},
   "outputs": [
    {
     "name": "stdout",
     "output_type": "stream",
     "text": [
      "Accuracy: 84.62%\n"
     ]
    }
   ],
   "source": [
    "# find the model accuracy on test set\n",
    "\n",
    "accuracy2 = model2.score(features_test_tfvec, target_test)\n",
    "print(\"Accuracy: {:.2f}%\".format(accuracy2*100))"
   ]
  },
  {
   "cell_type": "code",
   "execution_count": 14,
   "id": "2f7eae3c",
   "metadata": {},
   "outputs": [
    {
     "data": {
      "text/plain": [
       "<sklearn.metrics._plot.confusion_matrix.ConfusionMatrixDisplay at 0x146603650>"
      ]
     },
     "execution_count": 14,
     "metadata": {},
     "output_type": "execute_result"
    },
    {
     "data": {
      "image/png": "[encoded data removed]",
      "text/plain": [
       "<Figure size 640x480 with 2 Axes>"
      ]
     },
     "metadata": {},
     "output_type": "display_data"
    }
   ],
   "source": [
    "# create a confusion matrix for the test set predictions\n",
    "\n",
    "# predict the test data\n",
    "target_predict2 = model2.predict(features_test_tfvec)\n",
    "\n",
    "# create confusion matrix\n",
    "cm2 = confusion_matrix(target_test, target_predict2)\n",
    "cm2_display = ConfusionMatrixDisplay(confusion_matrix = cm2, display_labels = [False, True])\n",
    "cm2_display.plot()"
   ]
  },
  {
   "cell_type": "code",
   "execution_count": 15,
   "id": "9859d495",
   "metadata": {},
   "outputs": [
    {
     "name": "stdout",
     "output_type": "stream",
     "text": [
      "Precision Score: 85.38%\n",
      "Recall Score: 83.50%\n",
      "F1 Score: 84.43%\n"
     ]
    }
   ],
   "source": [
    "# get the precision, recall, and F1-score for the test set predictions\n",
    "\n",
    "# get precision score\n",
    "precision_score2 = precision_score(target_test, target_predict2)\n",
    "print(\"Precision Score: {:.2f}%\".format(precision_score2*100))\n",
    "\n",
    "# get recall score\n",
    "recall_score2 = recall_score(target_test, target_predict2)\n",
    "print(\"Recall Score: {:.2f}%\".format(recall_score2*100))\n",
    "\n",
    "# get F1 score\n",
    "f1_score2 = f1_score(target_test, target_predict2)\n",
    "print(\"F1 Score: {:.2f}%\".format(f1_score2*100))"
   ]
  },
  {
   "cell_type": "code",
   "execution_count": 16,
   "id": "2bce0127",
   "metadata": {},
   "outputs": [
    {
     "data": {
      "image/png": "[encoded data removed]",
      "text/plain": [
       "<Figure size 640x480 with 1 Axes>"
      ]
     },
     "metadata": {},
     "output_type": "display_data"
    }
   ],
   "source": [
    "# create a ROC curve for the test set\n",
    "\n",
    "target_predict_probability2 = model2.predict_proba(features_test_tfvec)[:,1]\n",
    "fpr2, tpr2, threshold2 = roc_curve(target_test, target_predict_probability2)\n",
    "\n",
    "mpl.plot(fpr2,tpr2)\n",
    "mpl.title(\"Model2 ROC Curve\")\n",
    "mpl.ylabel(\"True Positive Rate\")\n",
    "mpl.xlabel(\"False Positive Rate\")\n",
    "mpl.show()"
   ]
  }
 ],
 "metadata": {
  "kernelspec": {
   "display_name": "Python 3 (ipykernel)",
   "language": "python",
   "name": "python3"
  },
  "language_info": {
   "codemirror_mode": {
    "name": "ipython",
    "version": 3
   },
   "file_extension": ".py",
   "mimetype": "text/x-python",
   "name": "python",
   "nbconvert_exporter": "python",
   "pygments_lexer": "ipython3",
   "version": "3.11.4"
  }
 },
 "nbformat": 4,
 "nbformat_minor": 5
}
